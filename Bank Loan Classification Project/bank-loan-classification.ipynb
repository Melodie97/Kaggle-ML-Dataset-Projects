{
 "cells": [
  {
   "cell_type": "markdown",
   "metadata": {},
   "source": [
    "# Bank Loan Classification Project"
   ]
  },
  {
   "cell_type": "code",
   "execution_count": 1,
   "metadata": {},
   "outputs": [],
   "source": [
    "#import Libraries\n",
    "import warnings\n",
    "warnings.filterwarnings(\"ignore\")\n",
    "import numpy as np\n",
    "import pandas as pd\n",
    "import matplotlib.pyplot as plt\n",
    "import seaborn as sns\n",
    "%matplotlib inline"
   ]
  },
  {
   "cell_type": "code",
   "execution_count": 2,
   "metadata": {},
   "outputs": [
    {
     "data": {
      "text/html": [
       "<div>\n",
       "<style scoped>\n",
       "    .dataframe tbody tr th:only-of-type {\n",
       "        vertical-align: middle;\n",
       "    }\n",
       "\n",
       "    .dataframe tbody tr th {\n",
       "        vertical-align: top;\n",
       "    }\n",
       "\n",
       "    .dataframe thead th {\n",
       "        text-align: right;\n",
       "    }\n",
       "</style>\n",
       "<table border=\"1\" class=\"dataframe\">\n",
       "  <thead>\n",
       "    <tr style=\"text-align: right;\">\n",
       "      <th></th>\n",
       "      <th>ID</th>\n",
       "      <th>Age</th>\n",
       "      <th>Experience</th>\n",
       "      <th>Income</th>\n",
       "      <th>ZIP Code</th>\n",
       "      <th>Family</th>\n",
       "      <th>CCAvg</th>\n",
       "      <th>Education</th>\n",
       "      <th>Mortgage</th>\n",
       "      <th>Personal Loan</th>\n",
       "      <th>Securities Account</th>\n",
       "      <th>CD Account</th>\n",
       "      <th>Online</th>\n",
       "      <th>CreditCard</th>\n",
       "    </tr>\n",
       "  </thead>\n",
       "  <tbody>\n",
       "    <tr>\n",
       "      <th>0</th>\n",
       "      <td>1</td>\n",
       "      <td>25</td>\n",
       "      <td>1</td>\n",
       "      <td>49</td>\n",
       "      <td>91107</td>\n",
       "      <td>4</td>\n",
       "      <td>1.6</td>\n",
       "      <td>1</td>\n",
       "      <td>0</td>\n",
       "      <td>0</td>\n",
       "      <td>1</td>\n",
       "      <td>0</td>\n",
       "      <td>0</td>\n",
       "      <td>0</td>\n",
       "    </tr>\n",
       "    <tr>\n",
       "      <th>1</th>\n",
       "      <td>2</td>\n",
       "      <td>45</td>\n",
       "      <td>19</td>\n",
       "      <td>34</td>\n",
       "      <td>90089</td>\n",
       "      <td>3</td>\n",
       "      <td>1.5</td>\n",
       "      <td>1</td>\n",
       "      <td>0</td>\n",
       "      <td>0</td>\n",
       "      <td>1</td>\n",
       "      <td>0</td>\n",
       "      <td>0</td>\n",
       "      <td>0</td>\n",
       "    </tr>\n",
       "    <tr>\n",
       "      <th>2</th>\n",
       "      <td>3</td>\n",
       "      <td>39</td>\n",
       "      <td>15</td>\n",
       "      <td>11</td>\n",
       "      <td>94720</td>\n",
       "      <td>1</td>\n",
       "      <td>1.0</td>\n",
       "      <td>1</td>\n",
       "      <td>0</td>\n",
       "      <td>0</td>\n",
       "      <td>0</td>\n",
       "      <td>0</td>\n",
       "      <td>0</td>\n",
       "      <td>0</td>\n",
       "    </tr>\n",
       "    <tr>\n",
       "      <th>3</th>\n",
       "      <td>4</td>\n",
       "      <td>35</td>\n",
       "      <td>9</td>\n",
       "      <td>100</td>\n",
       "      <td>94112</td>\n",
       "      <td>1</td>\n",
       "      <td>2.7</td>\n",
       "      <td>2</td>\n",
       "      <td>0</td>\n",
       "      <td>0</td>\n",
       "      <td>0</td>\n",
       "      <td>0</td>\n",
       "      <td>0</td>\n",
       "      <td>0</td>\n",
       "    </tr>\n",
       "    <tr>\n",
       "      <th>4</th>\n",
       "      <td>5</td>\n",
       "      <td>35</td>\n",
       "      <td>8</td>\n",
       "      <td>45</td>\n",
       "      <td>91330</td>\n",
       "      <td>4</td>\n",
       "      <td>1.0</td>\n",
       "      <td>2</td>\n",
       "      <td>0</td>\n",
       "      <td>0</td>\n",
       "      <td>0</td>\n",
       "      <td>0</td>\n",
       "      <td>0</td>\n",
       "      <td>1</td>\n",
       "    </tr>\n",
       "  </tbody>\n",
       "</table>\n",
       "</div>"
      ],
      "text/plain": [
       "   ID  Age  Experience  Income  ZIP Code  Family  CCAvg  Education  Mortgage  \\\n",
       "0   1   25           1      49     91107       4    1.6          1         0   \n",
       "1   2   45          19      34     90089       3    1.5          1         0   \n",
       "2   3   39          15      11     94720       1    1.0          1         0   \n",
       "3   4   35           9     100     94112       1    2.7          2         0   \n",
       "4   5   35           8      45     91330       4    1.0          2         0   \n",
       "\n",
       "   Personal Loan  Securities Account  CD Account  Online  CreditCard  \n",
       "0              0                   1           0       0           0  \n",
       "1              0                   1           0       0           0  \n",
       "2              0                   0           0       0           0  \n",
       "3              0                   0           0       0           0  \n",
       "4              0                   0           0       0           1  "
      ]
     },
     "execution_count": 2,
     "metadata": {},
     "output_type": "execute_result"
    }
   ],
   "source": [
    "#Loading the dataset\n",
    "Bank_data = pd.read_csv('UniversalBank.csv')\n",
    "#previewing the dataset\n",
    "Bank_data.head()"
   ]
  },
  {
   "cell_type": "markdown",
   "metadata": {},
   "source": [
    "## Exploratory Data Analysis"
   ]
  },
  {
   "cell_type": "code",
   "execution_count": 3,
   "metadata": {},
   "outputs": [
    {
     "data": {
      "text/plain": [
       "(5000, 14)"
      ]
     },
     "execution_count": 3,
     "metadata": {},
     "output_type": "execute_result"
    }
   ],
   "source": [
    "#finding out the number of rows and columns of our dataset\n",
    "Bank_data.shape"
   ]
  },
  {
   "cell_type": "code",
   "execution_count": 4,
   "metadata": {},
   "outputs": [
    {
     "name": "stdout",
     "output_type": "stream",
     "text": [
      "<class 'pandas.core.frame.DataFrame'>\n",
      "RangeIndex: 5000 entries, 0 to 4999\n",
      "Data columns (total 14 columns):\n",
      " #   Column              Non-Null Count  Dtype  \n",
      "---  ------              --------------  -----  \n",
      " 0   ID                  5000 non-null   int64  \n",
      " 1   Age                 5000 non-null   int64  \n",
      " 2   Experience          5000 non-null   int64  \n",
      " 3   Income              5000 non-null   int64  \n",
      " 4   ZIP Code            5000 non-null   int64  \n",
      " 5   Family              5000 non-null   int64  \n",
      " 6   CCAvg               5000 non-null   float64\n",
      " 7   Education           5000 non-null   int64  \n",
      " 8   Mortgage            5000 non-null   int64  \n",
      " 9   Personal Loan       5000 non-null   int64  \n",
      " 10  Securities Account  5000 non-null   int64  \n",
      " 11  CD Account          5000 non-null   int64  \n",
      " 12  Online              5000 non-null   int64  \n",
      " 13  CreditCard          5000 non-null   int64  \n",
      "dtypes: float64(1), int64(13)\n",
      "memory usage: 547.0 KB\n"
     ]
    }
   ],
   "source": [
    "#getting more insights on our data\n",
    "Bank_data.info()"
   ]
  },
  {
   "cell_type": "markdown",
   "metadata": {},
   "source": [
    "### Missing Values"
   ]
  },
  {
   "cell_type": "code",
   "execution_count": 5,
   "metadata": {
    "scrolled": true
   },
   "outputs": [
    {
     "data": {
      "text/plain": [
       "ID                    0\n",
       "Age                   0\n",
       "Experience            0\n",
       "Income                0\n",
       "ZIP Code              0\n",
       "Family                0\n",
       "CCAvg                 0\n",
       "Education             0\n",
       "Mortgage              0\n",
       "Personal Loan         0\n",
       "Securities Account    0\n",
       "CD Account            0\n",
       "Online                0\n",
       "CreditCard            0\n",
       "dtype: int64"
      ]
     },
     "execution_count": 5,
     "metadata": {},
     "output_type": "execute_result"
    }
   ],
   "source": [
    "#checking for missing values\n",
    "Bank_data.isnull().sum()"
   ]
  },
  {
   "cell_type": "code",
   "execution_count": 6,
   "metadata": {
    "scrolled": false
   },
   "outputs": [
    {
     "data": {
      "text/plain": [
       "<AxesSubplot:>"
      ]
     },
     "execution_count": 6,
     "metadata": {},
     "output_type": "execute_result"
    },
    {
     "data": {
      "image/png": "[encoded data removed]",
      "text/plain": [
       "<Figure size 432x288 with 1 Axes>"
      ]
     },
     "metadata": {
      "needs_background": "light"
     },
     "output_type": "display_data"
    }
   ],
   "source": [
    "#examining missing values with heatmap\n",
    "sns.heatmap(Bank_data.isnull(),cbar=False)"
   ]
  },
  {
   "cell_type": "markdown",
   "metadata": {},
   "source": [
    "From the above we can see our data doesn't have null values"
   ]
  },
  {
   "cell_type": "markdown",
   "metadata": {},
   "source": [
    "### Dropping Irrelevant colums"
   ]
  },
  {
   "cell_type": "code",
   "execution_count": 7,
   "metadata": {},
   "outputs": [],
   "source": [
    "#dropping ID and Zip code because we don't need them to predict our Target variable\n",
    "Bank_data.drop(columns = ['ID', 'ZIP Code'], inplace=True)"
   ]
  },
  {
   "cell_type": "code",
   "execution_count": 8,
   "metadata": {
    "scrolled": false
   },
   "outputs": [
    {
     "data": {
      "text/html": [
       "<div>\n",
       "<style scoped>\n",
       "    .dataframe tbody tr th:only-of-type {\n",
       "        vertical-align: middle;\n",
       "    }\n",
       "\n",
       "    .dataframe tbody tr th {\n",
       "        vertical-align: top;\n",
       "    }\n",
       "\n",
       "    .dataframe thead th {\n",
       "        text-align: right;\n",
       "    }\n",
       "</style>\n",
       "<table border=\"1\" class=\"dataframe\">\n",
       "  <thead>\n",
       "    <tr style=\"text-align: right;\">\n",
       "      <th></th>\n",
       "      <th>Age</th>\n",
       "      <th>Experience</th>\n",
       "      <th>Income</th>\n",
       "      <th>Family</th>\n",
       "      <th>CCAvg</th>\n",
       "      <th>Education</th>\n",
       "      <th>Mortgage</th>\n",
       "      <th>Personal Loan</th>\n",
       "      <th>Securities Account</th>\n",
       "      <th>CD Account</th>\n",
       "      <th>Online</th>\n",
       "      <th>CreditCard</th>\n",
       "    </tr>\n",
       "  </thead>\n",
       "  <tbody>\n",
       "    <tr>\n",
       "      <th>0</th>\n",
       "      <td>25</td>\n",
       "      <td>1</td>\n",
       "      <td>49</td>\n",
       "      <td>4</td>\n",
       "      <td>1.6</td>\n",
       "      <td>1</td>\n",
       "      <td>0</td>\n",
       "      <td>0</td>\n",
       "      <td>1</td>\n",
       "      <td>0</td>\n",
       "      <td>0</td>\n",
       "      <td>0</td>\n",
       "    </tr>\n",
       "    <tr>\n",
       "      <th>1</th>\n",
       "      <td>45</td>\n",
       "      <td>19</td>\n",
       "      <td>34</td>\n",
       "      <td>3</td>\n",
       "      <td>1.5</td>\n",
       "      <td>1</td>\n",
       "      <td>0</td>\n",
       "      <td>0</td>\n",
       "      <td>1</td>\n",
       "      <td>0</td>\n",
       "      <td>0</td>\n",
       "      <td>0</td>\n",
       "    </tr>\n",
       "    <tr>\n",
       "      <th>2</th>\n",
       "      <td>39</td>\n",
       "      <td>15</td>\n",
       "      <td>11</td>\n",
       "      <td>1</td>\n",
       "      <td>1.0</td>\n",
       "      <td>1</td>\n",
       "      <td>0</td>\n",
       "      <td>0</td>\n",
       "      <td>0</td>\n",
       "      <td>0</td>\n",
       "      <td>0</td>\n",
       "      <td>0</td>\n",
       "    </tr>\n",
       "    <tr>\n",
       "      <th>3</th>\n",
       "      <td>35</td>\n",
       "      <td>9</td>\n",
       "      <td>100</td>\n",
       "      <td>1</td>\n",
       "      <td>2.7</td>\n",
       "      <td>2</td>\n",
       "      <td>0</td>\n",
       "      <td>0</td>\n",
       "      <td>0</td>\n",
       "      <td>0</td>\n",
       "      <td>0</td>\n",
       "      <td>0</td>\n",
       "    </tr>\n",
       "    <tr>\n",
       "      <th>4</th>\n",
       "      <td>35</td>\n",
       "      <td>8</td>\n",
       "      <td>45</td>\n",
       "      <td>4</td>\n",
       "      <td>1.0</td>\n",
       "      <td>2</td>\n",
       "      <td>0</td>\n",
       "      <td>0</td>\n",
       "      <td>0</td>\n",
       "      <td>0</td>\n",
       "      <td>0</td>\n",
       "      <td>1</td>\n",
       "    </tr>\n",
       "  </tbody>\n",
       "</table>\n",
       "</div>"
      ],
      "text/plain": [
       "   Age  Experience  Income  Family  CCAvg  Education  Mortgage  Personal Loan  \\\n",
       "0   25           1      49       4    1.6          1         0              0   \n",
       "1   45          19      34       3    1.5          1         0              0   \n",
       "2   39          15      11       1    1.0          1         0              0   \n",
       "3   35           9     100       1    2.7          2         0              0   \n",
       "4   35           8      45       4    1.0          2         0              0   \n",
       "\n",
       "   Securities Account  CD Account  Online  CreditCard  \n",
       "0                   1           0       0           0  \n",
       "1                   1           0       0           0  \n",
       "2                   0           0       0           0  \n",
       "3                   0           0       0           0  \n",
       "4                   0           0       0           1  "
      ]
     },
     "execution_count": 8,
     "metadata": {},
     "output_type": "execute_result"
    }
   ],
   "source": [
    "#visualizing our data without the dropped columns\n",
    "Bank_data.head()"
   ]
  },
  {
   "cell_type": "markdown",
   "metadata": {},
   "source": [
    "### Duplicate values"
   ]
  },
  {
   "cell_type": "code",
   "execution_count": 9,
   "metadata": {},
   "outputs": [
    {
     "data": {
      "text/plain": [
       "13"
      ]
     },
     "execution_count": 9,
     "metadata": {},
     "output_type": "execute_result"
    }
   ],
   "source": [
    "#checking for duplicates\n",
    "Bank_data.duplicated().sum()"
   ]
  },
  {
   "cell_type": "code",
   "execution_count": 10,
   "metadata": {
    "scrolled": false
   },
   "outputs": [
    {
     "data": {
      "text/html": [
       "<div>\n",
       "<style scoped>\n",
       "    .dataframe tbody tr th:only-of-type {\n",
       "        vertical-align: middle;\n",
       "    }\n",
       "\n",
       "    .dataframe tbody tr th {\n",
       "        vertical-align: top;\n",
       "    }\n",
       "\n",
       "    .dataframe thead th {\n",
       "        text-align: right;\n",
       "    }\n",
       "</style>\n",
       "<table border=\"1\" class=\"dataframe\">\n",
       "  <thead>\n",
       "    <tr style=\"text-align: right;\">\n",
       "      <th></th>\n",
       "      <th>Age</th>\n",
       "      <th>Experience</th>\n",
       "      <th>Income</th>\n",
       "      <th>Family</th>\n",
       "      <th>CCAvg</th>\n",
       "      <th>Education</th>\n",
       "      <th>Mortgage</th>\n",
       "      <th>Personal Loan</th>\n",
       "      <th>Securities Account</th>\n",
       "      <th>CD Account</th>\n",
       "      <th>Online</th>\n",
       "      <th>CreditCard</th>\n",
       "    </tr>\n",
       "  </thead>\n",
       "  <tbody>\n",
       "    <tr>\n",
       "      <th>125</th>\n",
       "      <td>60</td>\n",
       "      <td>35</td>\n",
       "      <td>80</td>\n",
       "      <td>3</td>\n",
       "      <td>0.50</td>\n",
       "      <td>1</td>\n",
       "      <td>0</td>\n",
       "      <td>0</td>\n",
       "      <td>0</td>\n",
       "      <td>0</td>\n",
       "      <td>1</td>\n",
       "      <td>0</td>\n",
       "    </tr>\n",
       "    <tr>\n",
       "      <th>218</th>\n",
       "      <td>44</td>\n",
       "      <td>20</td>\n",
       "      <td>72</td>\n",
       "      <td>3</td>\n",
       "      <td>0.30</td>\n",
       "      <td>3</td>\n",
       "      <td>0</td>\n",
       "      <td>0</td>\n",
       "      <td>0</td>\n",
       "      <td>0</td>\n",
       "      <td>1</td>\n",
       "      <td>0</td>\n",
       "    </tr>\n",
       "    <tr>\n",
       "      <th>590</th>\n",
       "      <td>29</td>\n",
       "      <td>3</td>\n",
       "      <td>39</td>\n",
       "      <td>4</td>\n",
       "      <td>2.10</td>\n",
       "      <td>3</td>\n",
       "      <td>0</td>\n",
       "      <td>0</td>\n",
       "      <td>0</td>\n",
       "      <td>0</td>\n",
       "      <td>1</td>\n",
       "      <td>0</td>\n",
       "    </tr>\n",
       "    <tr>\n",
       "      <th>738</th>\n",
       "      <td>36</td>\n",
       "      <td>10</td>\n",
       "      <td>80</td>\n",
       "      <td>4</td>\n",
       "      <td>2.20</td>\n",
       "      <td>2</td>\n",
       "      <td>0</td>\n",
       "      <td>0</td>\n",
       "      <td>0</td>\n",
       "      <td>0</td>\n",
       "      <td>1</td>\n",
       "      <td>0</td>\n",
       "    </tr>\n",
       "    <tr>\n",
       "      <th>789</th>\n",
       "      <td>29</td>\n",
       "      <td>3</td>\n",
       "      <td>31</td>\n",
       "      <td>4</td>\n",
       "      <td>0.30</td>\n",
       "      <td>2</td>\n",
       "      <td>0</td>\n",
       "      <td>0</td>\n",
       "      <td>0</td>\n",
       "      <td>0</td>\n",
       "      <td>1</td>\n",
       "      <td>0</td>\n",
       "    </tr>\n",
       "    <tr>\n",
       "      <th>799</th>\n",
       "      <td>29</td>\n",
       "      <td>3</td>\n",
       "      <td>39</td>\n",
       "      <td>4</td>\n",
       "      <td>2.10</td>\n",
       "      <td>3</td>\n",
       "      <td>0</td>\n",
       "      <td>0</td>\n",
       "      <td>0</td>\n",
       "      <td>0</td>\n",
       "      <td>1</td>\n",
       "      <td>0</td>\n",
       "    </tr>\n",
       "    <tr>\n",
       "      <th>930</th>\n",
       "      <td>28</td>\n",
       "      <td>4</td>\n",
       "      <td>43</td>\n",
       "      <td>3</td>\n",
       "      <td>0.10</td>\n",
       "      <td>2</td>\n",
       "      <td>0</td>\n",
       "      <td>0</td>\n",
       "      <td>0</td>\n",
       "      <td>0</td>\n",
       "      <td>1</td>\n",
       "      <td>0</td>\n",
       "    </tr>\n",
       "    <tr>\n",
       "      <th>1026</th>\n",
       "      <td>28</td>\n",
       "      <td>4</td>\n",
       "      <td>43</td>\n",
       "      <td>3</td>\n",
       "      <td>0.10</td>\n",
       "      <td>2</td>\n",
       "      <td>0</td>\n",
       "      <td>0</td>\n",
       "      <td>0</td>\n",
       "      <td>0</td>\n",
       "      <td>1</td>\n",
       "      <td>0</td>\n",
       "    </tr>\n",
       "    <tr>\n",
       "      <th>1526</th>\n",
       "      <td>36</td>\n",
       "      <td>10</td>\n",
       "      <td>80</td>\n",
       "      <td>4</td>\n",
       "      <td>2.20</td>\n",
       "      <td>2</td>\n",
       "      <td>0</td>\n",
       "      <td>0</td>\n",
       "      <td>0</td>\n",
       "      <td>0</td>\n",
       "      <td>1</td>\n",
       "      <td>0</td>\n",
       "    </tr>\n",
       "    <tr>\n",
       "      <th>2031</th>\n",
       "      <td>60</td>\n",
       "      <td>35</td>\n",
       "      <td>80</td>\n",
       "      <td>3</td>\n",
       "      <td>0.50</td>\n",
       "      <td>1</td>\n",
       "      <td>0</td>\n",
       "      <td>0</td>\n",
       "      <td>0</td>\n",
       "      <td>0</td>\n",
       "      <td>1</td>\n",
       "      <td>0</td>\n",
       "    </tr>\n",
       "    <tr>\n",
       "      <th>2552</th>\n",
       "      <td>39</td>\n",
       "      <td>15</td>\n",
       "      <td>65</td>\n",
       "      <td>1</td>\n",
       "      <td>1.50</td>\n",
       "      <td>3</td>\n",
       "      <td>0</td>\n",
       "      <td>0</td>\n",
       "      <td>0</td>\n",
       "      <td>0</td>\n",
       "      <td>0</td>\n",
       "      <td>0</td>\n",
       "    </tr>\n",
       "    <tr>\n",
       "      <th>2626</th>\n",
       "      <td>53</td>\n",
       "      <td>27</td>\n",
       "      <td>59</td>\n",
       "      <td>2</td>\n",
       "      <td>0.80</td>\n",
       "      <td>3</td>\n",
       "      <td>0</td>\n",
       "      <td>0</td>\n",
       "      <td>0</td>\n",
       "      <td>0</td>\n",
       "      <td>1</td>\n",
       "      <td>0</td>\n",
       "    </tr>\n",
       "    <tr>\n",
       "      <th>2644</th>\n",
       "      <td>40</td>\n",
       "      <td>14</td>\n",
       "      <td>28</td>\n",
       "      <td>2</td>\n",
       "      <td>0.80</td>\n",
       "      <td>3</td>\n",
       "      <td>0</td>\n",
       "      <td>0</td>\n",
       "      <td>0</td>\n",
       "      <td>0</td>\n",
       "      <td>0</td>\n",
       "      <td>0</td>\n",
       "    </tr>\n",
       "    <tr>\n",
       "      <th>2806</th>\n",
       "      <td>53</td>\n",
       "      <td>27</td>\n",
       "      <td>59</td>\n",
       "      <td>2</td>\n",
       "      <td>0.80</td>\n",
       "      <td>3</td>\n",
       "      <td>0</td>\n",
       "      <td>0</td>\n",
       "      <td>0</td>\n",
       "      <td>0</td>\n",
       "      <td>1</td>\n",
       "      <td>0</td>\n",
       "    </tr>\n",
       "    <tr>\n",
       "      <th>2886</th>\n",
       "      <td>50</td>\n",
       "      <td>25</td>\n",
       "      <td>58</td>\n",
       "      <td>1</td>\n",
       "      <td>1.30</td>\n",
       "      <td>2</td>\n",
       "      <td>0</td>\n",
       "      <td>0</td>\n",
       "      <td>0</td>\n",
       "      <td>0</td>\n",
       "      <td>1</td>\n",
       "      <td>0</td>\n",
       "    </tr>\n",
       "    <tr>\n",
       "      <th>3050</th>\n",
       "      <td>50</td>\n",
       "      <td>25</td>\n",
       "      <td>58</td>\n",
       "      <td>1</td>\n",
       "      <td>1.30</td>\n",
       "      <td>2</td>\n",
       "      <td>0</td>\n",
       "      <td>0</td>\n",
       "      <td>0</td>\n",
       "      <td>0</td>\n",
       "      <td>1</td>\n",
       "      <td>0</td>\n",
       "    </tr>\n",
       "    <tr>\n",
       "      <th>3227</th>\n",
       "      <td>31</td>\n",
       "      <td>7</td>\n",
       "      <td>18</td>\n",
       "      <td>1</td>\n",
       "      <td>0.40</td>\n",
       "      <td>3</td>\n",
       "      <td>0</td>\n",
       "      <td>0</td>\n",
       "      <td>0</td>\n",
       "      <td>0</td>\n",
       "      <td>1</td>\n",
       "      <td>0</td>\n",
       "    </tr>\n",
       "    <tr>\n",
       "      <th>3365</th>\n",
       "      <td>38</td>\n",
       "      <td>8</td>\n",
       "      <td>21</td>\n",
       "      <td>1</td>\n",
       "      <td>0.67</td>\n",
       "      <td>3</td>\n",
       "      <td>0</td>\n",
       "      <td>0</td>\n",
       "      <td>0</td>\n",
       "      <td>0</td>\n",
       "      <td>1</td>\n",
       "      <td>0</td>\n",
       "    </tr>\n",
       "    <tr>\n",
       "      <th>3420</th>\n",
       "      <td>66</td>\n",
       "      <td>41</td>\n",
       "      <td>114</td>\n",
       "      <td>1</td>\n",
       "      <td>0.80</td>\n",
       "      <td>3</td>\n",
       "      <td>0</td>\n",
       "      <td>0</td>\n",
       "      <td>0</td>\n",
       "      <td>0</td>\n",
       "      <td>1</td>\n",
       "      <td>1</td>\n",
       "    </tr>\n",
       "    <tr>\n",
       "      <th>3453</th>\n",
       "      <td>29</td>\n",
       "      <td>3</td>\n",
       "      <td>31</td>\n",
       "      <td>4</td>\n",
       "      <td>0.30</td>\n",
       "      <td>2</td>\n",
       "      <td>0</td>\n",
       "      <td>0</td>\n",
       "      <td>0</td>\n",
       "      <td>0</td>\n",
       "      <td>1</td>\n",
       "      <td>0</td>\n",
       "    </tr>\n",
       "    <tr>\n",
       "      <th>3694</th>\n",
       "      <td>38</td>\n",
       "      <td>8</td>\n",
       "      <td>21</td>\n",
       "      <td>1</td>\n",
       "      <td>0.67</td>\n",
       "      <td>3</td>\n",
       "      <td>0</td>\n",
       "      <td>0</td>\n",
       "      <td>0</td>\n",
       "      <td>0</td>\n",
       "      <td>1</td>\n",
       "      <td>0</td>\n",
       "    </tr>\n",
       "    <tr>\n",
       "      <th>4058</th>\n",
       "      <td>39</td>\n",
       "      <td>15</td>\n",
       "      <td>65</td>\n",
       "      <td>1</td>\n",
       "      <td>1.50</td>\n",
       "      <td>3</td>\n",
       "      <td>0</td>\n",
       "      <td>0</td>\n",
       "      <td>0</td>\n",
       "      <td>0</td>\n",
       "      <td>0</td>\n",
       "      <td>0</td>\n",
       "    </tr>\n",
       "    <tr>\n",
       "      <th>4482</th>\n",
       "      <td>40</td>\n",
       "      <td>14</td>\n",
       "      <td>28</td>\n",
       "      <td>2</td>\n",
       "      <td>0.80</td>\n",
       "      <td>3</td>\n",
       "      <td>0</td>\n",
       "      <td>0</td>\n",
       "      <td>0</td>\n",
       "      <td>0</td>\n",
       "      <td>0</td>\n",
       "      <td>0</td>\n",
       "    </tr>\n",
       "    <tr>\n",
       "      <th>4616</th>\n",
       "      <td>66</td>\n",
       "      <td>41</td>\n",
       "      <td>114</td>\n",
       "      <td>1</td>\n",
       "      <td>0.80</td>\n",
       "      <td>3</td>\n",
       "      <td>0</td>\n",
       "      <td>0</td>\n",
       "      <td>0</td>\n",
       "      <td>0</td>\n",
       "      <td>1</td>\n",
       "      <td>1</td>\n",
       "    </tr>\n",
       "    <tr>\n",
       "      <th>4744</th>\n",
       "      <td>44</td>\n",
       "      <td>20</td>\n",
       "      <td>72</td>\n",
       "      <td>3</td>\n",
       "      <td>0.30</td>\n",
       "      <td>3</td>\n",
       "      <td>0</td>\n",
       "      <td>0</td>\n",
       "      <td>0</td>\n",
       "      <td>0</td>\n",
       "      <td>1</td>\n",
       "      <td>0</td>\n",
       "    </tr>\n",
       "    <tr>\n",
       "      <th>4746</th>\n",
       "      <td>31</td>\n",
       "      <td>7</td>\n",
       "      <td>18</td>\n",
       "      <td>1</td>\n",
       "      <td>0.40</td>\n",
       "      <td>3</td>\n",
       "      <td>0</td>\n",
       "      <td>0</td>\n",
       "      <td>0</td>\n",
       "      <td>0</td>\n",
       "      <td>1</td>\n",
       "      <td>0</td>\n",
       "    </tr>\n",
       "  </tbody>\n",
       "</table>\n",
       "</div>"
      ],
      "text/plain": [
       "      Age  Experience  Income  Family  CCAvg  Education  Mortgage  \\\n",
       "125    60          35      80       3   0.50          1         0   \n",
       "218    44          20      72       3   0.30          3         0   \n",
       "590    29           3      39       4   2.10          3         0   \n",
       "738    36          10      80       4   2.20          2         0   \n",
       "789    29           3      31       4   0.30          2         0   \n",
       "799    29           3      39       4   2.10          3         0   \n",
       "930    28           4      43       3   0.10          2         0   \n",
       "1026   28           4      43       3   0.10          2         0   \n",
       "1526   36          10      80       4   2.20          2         0   \n",
       "2031   60          35      80       3   0.50          1         0   \n",
       "2552   39          15      65       1   1.50          3         0   \n",
       "2626   53          27      59       2   0.80          3         0   \n",
       "2644   40          14      28       2   0.80          3         0   \n",
       "2806   53          27      59       2   0.80          3         0   \n",
       "2886   50          25      58       1   1.30          2         0   \n",
       "3050   50          25      58       1   1.30          2         0   \n",
       "3227   31           7      18       1   0.40          3         0   \n",
       "3365   38           8      21       1   0.67          3         0   \n",
       "3420   66          41     114       1   0.80          3         0   \n",
       "3453   29           3      31       4   0.30          2         0   \n",
       "3694   38           8      21       1   0.67          3         0   \n",
       "4058   39          15      65       1   1.50          3         0   \n",
       "4482   40          14      28       2   0.80          3         0   \n",
       "4616   66          41     114       1   0.80          3         0   \n",
       "4744   44          20      72       3   0.30          3         0   \n",
       "4746   31           7      18       1   0.40          3         0   \n",
       "\n",
       "      Personal Loan  Securities Account  CD Account  Online  CreditCard  \n",
       "125               0                   0           0       1           0  \n",
       "218               0                   0           0       1           0  \n",
       "590               0                   0           0       1           0  \n",
       "738               0                   0           0       1           0  \n",
       "789               0                   0           0       1           0  \n",
       "799               0                   0           0       1           0  \n",
       "930               0                   0           0       1           0  \n",
       "1026              0                   0           0       1           0  \n",
       "1526              0                   0           0       1           0  \n",
       "2031              0                   0           0       1           0  \n",
       "2552              0                   0           0       0           0  \n",
       "2626              0                   0           0       1           0  \n",
       "2644              0                   0           0       0           0  \n",
       "2806              0                   0           0       1           0  \n",
       "2886              0                   0           0       1           0  \n",
       "3050              0                   0           0       1           0  \n",
       "3227              0                   0           0       1           0  \n",
       "3365              0                   0           0       1           0  \n",
       "3420              0                   0           0       1           1  \n",
       "3453              0                   0           0       1           0  \n",
       "3694              0                   0           0       1           0  \n",
       "4058              0                   0           0       0           0  \n",
       "4482              0                   0           0       0           0  \n",
       "4616              0                   0           0       1           1  \n",
       "4744              0                   0           0       1           0  \n",
       "4746              0                   0           0       1           0  "
      ]
     },
     "execution_count": 10,
     "metadata": {},
     "output_type": "execute_result"
    }
   ],
   "source": [
    "#viewing all duplicated data\n",
    "Bank_data[Bank_data.duplicated(keep = False)]"
   ]
  },
  {
   "cell_type": "code",
   "execution_count": 11,
   "metadata": {},
   "outputs": [],
   "source": [
    "#dropping the duplicates\n",
    "Bank_data=Bank_data.drop_duplicates()"
   ]
  },
  {
   "cell_type": "code",
   "execution_count": 12,
   "metadata": {},
   "outputs": [
    {
     "data": {
      "text/plain": [
       "0"
      ]
     },
     "execution_count": 12,
     "metadata": {},
     "output_type": "execute_result"
    }
   ],
   "source": [
    "#checking for duplicates\n",
    "Bank_data.duplicated().sum()"
   ]
  },
  {
   "cell_type": "markdown",
   "metadata": {},
   "source": [
    "From here we know we have no duplicated data nor any missing data"
   ]
  },
  {
   "cell_type": "markdown",
   "metadata": {},
   "source": [
    "### Checking Target Variable Distribution"
   ]
  },
  {
   "cell_type": "code",
   "execution_count": 13,
   "metadata": {},
   "outputs": [
    {
     "data": {
      "text/plain": [
       "(4987, 12)"
      ]
     },
     "execution_count": 13,
     "metadata": {},
     "output_type": "execute_result"
    }
   ],
   "source": [
    "#verifying the shape of our data\n",
    "Bank_data.shape"
   ]
  },
  {
   "cell_type": "code",
   "execution_count": 14,
   "metadata": {
    "scrolled": false
   },
   "outputs": [
    {
     "data": {
      "text/plain": [
       "Index(['Age', 'Experience', 'Income', 'Family', 'CCAvg', 'Education',\n",
       "       'Mortgage', 'Personal Loan', 'Securities Account', 'CD Account',\n",
       "       'Online', 'CreditCard'],\n",
       "      dtype='object')"
      ]
     },
     "execution_count": 14,
     "metadata": {},
     "output_type": "execute_result"
    }
   ],
   "source": [
    "#these are the columns we are working with\n",
    "Bank_data.keys()"
   ]
  },
  {
   "cell_type": "code",
   "execution_count": 15,
   "metadata": {},
   "outputs": [
    {
     "data": {
      "text/plain": [
       "0    4507\n",
       "1     480\n",
       "Name: Personal Loan, dtype: int64"
      ]
     },
     "execution_count": 15,
     "metadata": {},
     "output_type": "execute_result"
    }
   ],
   "source": [
    "#checking value_counts of our target variable\n",
    "Bank_data['Personal Loan'].value_counts()"
   ]
  },
  {
   "cell_type": "code",
   "execution_count": 16,
   "metadata": {},
   "outputs": [
    {
     "data": {
      "text/plain": [
       "0    90.374975\n",
       "1     9.625025\n",
       "Name: Personal Loan, dtype: float64"
      ]
     },
     "execution_count": 16,
     "metadata": {},
     "output_type": "execute_result"
    }
   ],
   "source": [
    "#checking the percentage of the value_counts\n",
    "Bank_data['Personal Loan'].value_counts(normalize=True)*100"
   ]
  },
  {
   "cell_type": "markdown",
   "metadata": {},
   "source": [
    "This shows that our target class has 90% of no events(good loan) and just 9% of events(bad loan)"
   ]
  },
  {
   "cell_type": "code",
   "execution_count": 17,
   "metadata": {
    "scrolled": true
   },
   "outputs": [
    {
     "data": {
      "image/png": "[encoded data removed]",
      "text/plain": [
       "<Figure size 432x288 with 1 Axes>"
      ]
     },
     "metadata": {
      "needs_background": "light"
     },
     "output_type": "display_data"
    }
   ],
   "source": [
    "#visualizing the distribution of our target variable\n",
    "t = sns.countplot(Bank_data['Personal Loan'])\n",
    "t.set_xticklabels(['Good Loan','Bad Loan'])\n",
    "plt.title('Distribution of Personal loan column');"
   ]
  },
  {
   "cell_type": "markdown",
   "metadata": {},
   "source": [
    "from the above we can see that we have an imbalanced dataset, but we'll deal with this in later cells,\n",
    "let's check the correlation between our columns"
   ]
  },
  {
   "cell_type": "markdown",
   "metadata": {},
   "source": [
    "### Finding Correlations"
   ]
  },
  {
   "cell_type": "code",
   "execution_count": 18,
   "metadata": {},
   "outputs": [
    {
     "data": {
      "text/html": [
       "<div>\n",
       "<style scoped>\n",
       "    .dataframe tbody tr th:only-of-type {\n",
       "        vertical-align: middle;\n",
       "    }\n",
       "\n",
       "    .dataframe tbody tr th {\n",
       "        vertical-align: top;\n",
       "    }\n",
       "\n",
       "    .dataframe thead th {\n",
       "        text-align: right;\n",
       "    }\n",
       "</style>\n",
       "<table border=\"1\" class=\"dataframe\">\n",
       "  <thead>\n",
       "    <tr style=\"text-align: right;\">\n",
       "      <th></th>\n",
       "      <th>Age</th>\n",
       "      <th>Experience</th>\n",
       "      <th>Income</th>\n",
       "      <th>Family</th>\n",
       "      <th>CCAvg</th>\n",
       "      <th>Education</th>\n",
       "      <th>Mortgage</th>\n",
       "      <th>Personal Loan</th>\n",
       "      <th>Securities Account</th>\n",
       "      <th>CD Account</th>\n",
       "      <th>Online</th>\n",
       "      <th>CreditCard</th>\n",
       "    </tr>\n",
       "  </thead>\n",
       "  <tbody>\n",
       "    <tr>\n",
       "      <th>Age</th>\n",
       "      <td>1.000000</td>\n",
       "      <td>0.994221</td>\n",
       "      <td>0.056897</td>\n",
       "      <td>0.045533</td>\n",
       "      <td>0.052522</td>\n",
       "      <td>0.042356</td>\n",
       "      <td>0.013014</td>\n",
       "      <td>0.008003</td>\n",
       "      <td>0.000715</td>\n",
       "      <td>0.007849</td>\n",
       "      <td>0.013989</td>\n",
       "      <td>0.006381</td>\n",
       "    </tr>\n",
       "    <tr>\n",
       "      <th>Experience</th>\n",
       "      <td>0.994221</td>\n",
       "      <td>1.000000</td>\n",
       "      <td>0.048277</td>\n",
       "      <td>0.051718</td>\n",
       "      <td>0.050597</td>\n",
       "      <td>0.014166</td>\n",
       "      <td>0.011083</td>\n",
       "      <td>0.007708</td>\n",
       "      <td>0.001529</td>\n",
       "      <td>0.010151</td>\n",
       "      <td>0.014245</td>\n",
       "      <td>0.007628</td>\n",
       "    </tr>\n",
       "    <tr>\n",
       "      <th>Income</th>\n",
       "      <td>0.056897</td>\n",
       "      <td>0.048277</td>\n",
       "      <td>1.000000</td>\n",
       "      <td>0.157922</td>\n",
       "      <td>0.646065</td>\n",
       "      <td>0.186847</td>\n",
       "      <td>0.206420</td>\n",
       "      <td>0.502513</td>\n",
       "      <td>0.002992</td>\n",
       "      <td>0.169589</td>\n",
       "      <td>0.014646</td>\n",
       "      <td>0.003479</td>\n",
       "    </tr>\n",
       "    <tr>\n",
       "      <th>Family</th>\n",
       "      <td>0.045533</td>\n",
       "      <td>0.051718</td>\n",
       "      <td>0.157922</td>\n",
       "      <td>1.000000</td>\n",
       "      <td>0.109801</td>\n",
       "      <td>0.066145</td>\n",
       "      <td>0.020595</td>\n",
       "      <td>0.061398</td>\n",
       "      <td>0.019957</td>\n",
       "      <td>0.014081</td>\n",
       "      <td>0.009907</td>\n",
       "      <td>0.012018</td>\n",
       "    </tr>\n",
       "    <tr>\n",
       "      <th>CCAvg</th>\n",
       "      <td>0.052522</td>\n",
       "      <td>0.050597</td>\n",
       "      <td>0.646065</td>\n",
       "      <td>0.109801</td>\n",
       "      <td>1.000000</td>\n",
       "      <td>0.135285</td>\n",
       "      <td>0.109162</td>\n",
       "      <td>0.366671</td>\n",
       "      <td>0.014572</td>\n",
       "      <td>0.136241</td>\n",
       "      <td>0.002718</td>\n",
       "      <td>0.007407</td>\n",
       "    </tr>\n",
       "    <tr>\n",
       "      <th>Education</th>\n",
       "      <td>0.042356</td>\n",
       "      <td>0.014166</td>\n",
       "      <td>0.186847</td>\n",
       "      <td>0.066145</td>\n",
       "      <td>0.135285</td>\n",
       "      <td>1.000000</td>\n",
       "      <td>0.032256</td>\n",
       "      <td>0.137618</td>\n",
       "      <td>0.010132</td>\n",
       "      <td>0.014475</td>\n",
       "      <td>0.015633</td>\n",
       "      <td>0.010307</td>\n",
       "    </tr>\n",
       "    <tr>\n",
       "      <th>Mortgage</th>\n",
       "      <td>0.013014</td>\n",
       "      <td>0.011083</td>\n",
       "      <td>0.206420</td>\n",
       "      <td>0.020595</td>\n",
       "      <td>0.109162</td>\n",
       "      <td>0.032256</td>\n",
       "      <td>1.000000</td>\n",
       "      <td>0.141700</td>\n",
       "      <td>0.005909</td>\n",
       "      <td>0.088987</td>\n",
       "      <td>0.005266</td>\n",
       "      <td>0.007930</td>\n",
       "    </tr>\n",
       "    <tr>\n",
       "      <th>Personal Loan</th>\n",
       "      <td>0.008003</td>\n",
       "      <td>0.007708</td>\n",
       "      <td>0.502513</td>\n",
       "      <td>0.061398</td>\n",
       "      <td>0.366671</td>\n",
       "      <td>0.137618</td>\n",
       "      <td>0.141700</td>\n",
       "      <td>1.000000</td>\n",
       "      <td>0.021670</td>\n",
       "      <td>0.316210</td>\n",
       "      <td>0.006718</td>\n",
       "      <td>0.002399</td>\n",
       "    </tr>\n",
       "    <tr>\n",
       "      <th>Securities Account</th>\n",
       "      <td>0.000715</td>\n",
       "      <td>0.001529</td>\n",
       "      <td>0.002992</td>\n",
       "      <td>0.019957</td>\n",
       "      <td>0.014572</td>\n",
       "      <td>0.010132</td>\n",
       "      <td>0.005909</td>\n",
       "      <td>0.021670</td>\n",
       "      <td>1.000000</td>\n",
       "      <td>0.316883</td>\n",
       "      <td>0.013096</td>\n",
       "      <td>0.015466</td>\n",
       "    </tr>\n",
       "    <tr>\n",
       "      <th>CD Account</th>\n",
       "      <td>0.007849</td>\n",
       "      <td>0.010151</td>\n",
       "      <td>0.169589</td>\n",
       "      <td>0.014081</td>\n",
       "      <td>0.136241</td>\n",
       "      <td>0.014475</td>\n",
       "      <td>0.088987</td>\n",
       "      <td>0.316210</td>\n",
       "      <td>0.316883</td>\n",
       "      <td>1.000000</td>\n",
       "      <td>0.176414</td>\n",
       "      <td>0.278559</td>\n",
       "    </tr>\n",
       "    <tr>\n",
       "      <th>Online</th>\n",
       "      <td>0.013989</td>\n",
       "      <td>0.014245</td>\n",
       "      <td>0.014646</td>\n",
       "      <td>0.009907</td>\n",
       "      <td>0.002718</td>\n",
       "      <td>0.015633</td>\n",
       "      <td>0.005266</td>\n",
       "      <td>0.006718</td>\n",
       "      <td>0.013096</td>\n",
       "      <td>0.176414</td>\n",
       "      <td>1.000000</td>\n",
       "      <td>0.004712</td>\n",
       "    </tr>\n",
       "    <tr>\n",
       "      <th>CreditCard</th>\n",
       "      <td>0.006381</td>\n",
       "      <td>0.007628</td>\n",
       "      <td>0.003479</td>\n",
       "      <td>0.012018</td>\n",
       "      <td>0.007407</td>\n",
       "      <td>0.010307</td>\n",
       "      <td>0.007930</td>\n",
       "      <td>0.002399</td>\n",
       "      <td>0.015466</td>\n",
       "      <td>0.278559</td>\n",
       "      <td>0.004712</td>\n",
       "      <td>1.000000</td>\n",
       "    </tr>\n",
       "  </tbody>\n",
       "</table>\n",
       "</div>"
      ],
      "text/plain": [
       "                         Age  Experience    Income    Family     CCAvg  \\\n",
       "Age                 1.000000    0.994221  0.056897  0.045533  0.052522   \n",
       "Experience          0.994221    1.000000  0.048277  0.051718  0.050597   \n",
       "Income              0.056897    0.048277  1.000000  0.157922  0.646065   \n",
       "Family              0.045533    0.051718  0.157922  1.000000  0.109801   \n",
       "CCAvg               0.052522    0.050597  0.646065  0.109801  1.000000   \n",
       "Education           0.042356    0.014166  0.186847  0.066145  0.135285   \n",
       "Mortgage            0.013014    0.011083  0.206420  0.020595  0.109162   \n",
       "Personal Loan       0.008003    0.007708  0.502513  0.061398  0.366671   \n",
       "Securities Account  0.000715    0.001529  0.002992  0.019957  0.014572   \n",
       "CD Account          0.007849    0.010151  0.169589  0.014081  0.136241   \n",
       "Online              0.013989    0.014245  0.014646  0.009907  0.002718   \n",
       "CreditCard          0.006381    0.007628  0.003479  0.012018  0.007407   \n",
       "\n",
       "                    Education  Mortgage  Personal Loan  Securities Account  \\\n",
       "Age                  0.042356  0.013014       0.008003            0.000715   \n",
       "Experience           0.014166  0.011083       0.007708            0.001529   \n",
       "Income               0.186847  0.206420       0.502513            0.002992   \n",
       "Family               0.066145  0.020595       0.061398            0.019957   \n",
       "CCAvg                0.135285  0.109162       0.366671            0.014572   \n",
       "Education            1.000000  0.032256       0.137618            0.010132   \n",
       "Mortgage             0.032256  1.000000       0.141700            0.005909   \n",
       "Personal Loan        0.137618  0.141700       1.000000            0.021670   \n",
       "Securities Account   0.010132  0.005909       0.021670            1.000000   \n",
       "CD Account           0.014475  0.088987       0.316210            0.316883   \n",
       "Online               0.015633  0.005266       0.006718            0.013096   \n",
       "CreditCard           0.010307  0.007930       0.002399            0.015466   \n",
       "\n",
       "                    CD Account    Online  CreditCard  \n",
       "Age                   0.007849  0.013989    0.006381  \n",
       "Experience            0.010151  0.014245    0.007628  \n",
       "Income                0.169589  0.014646    0.003479  \n",
       "Family                0.014081  0.009907    0.012018  \n",
       "CCAvg                 0.136241  0.002718    0.007407  \n",
       "Education             0.014475  0.015633    0.010307  \n",
       "Mortgage              0.088987  0.005266    0.007930  \n",
       "Personal Loan         0.316210  0.006718    0.002399  \n",
       "Securities Account    0.316883  0.013096    0.015466  \n",
       "CD Account            1.000000  0.176414    0.278559  \n",
       "Online                0.176414  1.000000    0.004712  \n",
       "CreditCard            0.278559  0.004712    1.000000  "
      ]
     },
     "execution_count": 18,
     "metadata": {},
     "output_type": "execute_result"
    }
   ],
   "source": [
    "#finding correlation between the columns\n",
    "Bank_data.corr().abs()"
   ]
  },
  {
   "cell_type": "code",
   "execution_count": 19,
   "metadata": {},
   "outputs": [
    {
     "data": {
      "text/plain": [
       "<AxesSubplot:>"
      ]
     },
     "execution_count": 19,
     "metadata": {},
     "output_type": "execute_result"
    },
    {
     "data": {
      "image/png": "[encoded data removed]",
      "text/plain": [
       "<Figure size 720x360 with 2 Axes>"
      ]
     },
     "metadata": {
      "needs_background": "light"
     },
     "output_type": "display_data"
    }
   ],
   "source": [
    "#visualizing the variables correlation with one another\n",
    "plt.figure(figsize = (10, 5))\n",
    "mask = np.triu(Bank_data.corr())\n",
    "sns.heatmap(Bank_data.corr().abs(), annot = True, mask = mask, cmap ='coolwarm')"
   ]
  },
  {
   "cell_type": "code",
   "execution_count": 20,
   "metadata": {
    "scrolled": true
   },
   "outputs": [
    {
     "data": {
      "text/plain": [
       "Personal Loan         1.000000\n",
       "Income                0.502513\n",
       "CCAvg                 0.366671\n",
       "CD Account            0.316210\n",
       "Mortgage              0.141700\n",
       "Education             0.137618\n",
       "Family                0.061398\n",
       "Securities Account    0.021670\n",
       "Online                0.006718\n",
       "CreditCard            0.002399\n",
       "Experience           -0.007708\n",
       "Age                  -0.008003\n",
       "Name: Personal Loan, dtype: float64"
      ]
     },
     "execution_count": 20,
     "metadata": {},
     "output_type": "execute_result"
    }
   ],
   "source": [
    "#looking at the independent variables that are correlated to our target variable\n",
    "Bank_data.corr()['Personal Loan'].sort_values(ascending=False)"
   ]
  },
  {
   "cell_type": "markdown",
   "metadata": {},
   "source": [
    "From the above we can see that Income and CCAvg have the most correlation with our target variable, while CD Account, Morgage and Education have a low correlation. Now we can decide to drop the columns with the lowest correlation like Online, CreditCard, Experience and Age, but from the heat map above we can see that these columns have some correlation with the other variables, so we we'll keep them\n"
   ]
  },
  {
   "cell_type": "markdown",
   "metadata": {},
   "source": [
    "### Changing our data types"
   ]
  },
  {
   "cell_type": "code",
   "execution_count": 21,
   "metadata": {},
   "outputs": [],
   "source": [
    "#converting our categorical data to type category\n",
    "cat_columns=[\"Family\",\"Education\",\"Personal Loan\",\"Securities Account\",\"CD Account\",\"Online\",\"CreditCard\"]\n",
    "for col in cat_columns:\n",
    "    Bank_data[col] = Bank_data[col].astype(\"category\")"
   ]
  },
  {
   "cell_type": "code",
   "execution_count": 22,
   "metadata": {
    "scrolled": true
   },
   "outputs": [
    {
     "name": "stdout",
     "output_type": "stream",
     "text": [
      "<class 'pandas.core.frame.DataFrame'>\n",
      "Int64Index: 4987 entries, 0 to 4999\n",
      "Data columns (total 12 columns):\n",
      " #   Column              Non-Null Count  Dtype   \n",
      "---  ------              --------------  -----   \n",
      " 0   Age                 4987 non-null   int64   \n",
      " 1   Experience          4987 non-null   int64   \n",
      " 2   Income              4987 non-null   int64   \n",
      " 3   Family              4987 non-null   category\n",
      " 4   CCAvg               4987 non-null   float64 \n",
      " 5   Education           4987 non-null   category\n",
      " 6   Mortgage            4987 non-null   int64   \n",
      " 7   Personal Loan       4987 non-null   category\n",
      " 8   Securities Account  4987 non-null   category\n",
      " 9   CD Account          4987 non-null   category\n",
      " 10  Online              4987 non-null   category\n",
      " 11  CreditCard          4987 non-null   category\n",
      "dtypes: category(7), float64(1), int64(4)\n",
      "memory usage: 428.6 KB\n"
     ]
    }
   ],
   "source": [
    "#checking our data type to see if they've changed\n",
    "Bank_data.info()"
   ]
  },
  {
   "cell_type": "markdown",
   "metadata": {},
   "source": [
    "## Splitting our model\n",
    "\n",
    "I'm splitting my model first before doing any preprocessing techniques to avoid data leakage"
   ]
  },
  {
   "cell_type": "code",
   "execution_count": 23,
   "metadata": {},
   "outputs": [],
   "source": [
    "X = Bank_data.drop('Personal Loan', axis =1)\n",
    "y = Bank_data['Personal Loan']"
   ]
  },
  {
   "cell_type": "code",
   "execution_count": 24,
   "metadata": {},
   "outputs": [],
   "source": [
    "from sklearn.model_selection import train_test_split\n",
    "\n",
    "X_train, X_test, y_train, y_test = train_test_split(X, y, test_size = 0.30, random_state = 2, stratify = y)"
   ]
  },
  {
   "cell_type": "code",
   "execution_count": 25,
   "metadata": {},
   "outputs": [
    {
     "data": {
      "text/plain": [
       "((3490, 11), (1497, 11))"
      ]
     },
     "execution_count": 25,
     "metadata": {},
     "output_type": "execute_result"
    }
   ],
   "source": [
    "#checking the split\n",
    "X_train.shape, X_test.shape"
   ]
  },
  {
   "cell_type": "code",
   "execution_count": 26,
   "metadata": {
    "scrolled": false
   },
   "outputs": [
    {
     "data": {
      "text/html": [
       "<div>\n",
       "<style scoped>\n",
       "    .dataframe tbody tr th:only-of-type {\n",
       "        vertical-align: middle;\n",
       "    }\n",
       "\n",
       "    .dataframe tbody tr th {\n",
       "        vertical-align: top;\n",
       "    }\n",
       "\n",
       "    .dataframe thead th {\n",
       "        text-align: right;\n",
       "    }\n",
       "</style>\n",
       "<table border=\"1\" class=\"dataframe\">\n",
       "  <thead>\n",
       "    <tr style=\"text-align: right;\">\n",
       "      <th></th>\n",
       "      <th>Age</th>\n",
       "      <th>Experience</th>\n",
       "      <th>Income</th>\n",
       "      <th>Family</th>\n",
       "      <th>CCAvg</th>\n",
       "      <th>Education</th>\n",
       "      <th>Mortgage</th>\n",
       "      <th>Securities Account</th>\n",
       "      <th>CD Account</th>\n",
       "      <th>Online</th>\n",
       "      <th>CreditCard</th>\n",
       "    </tr>\n",
       "  </thead>\n",
       "  <tbody>\n",
       "    <tr>\n",
       "      <th>2546</th>\n",
       "      <td>50</td>\n",
       "      <td>25</td>\n",
       "      <td>9</td>\n",
       "      <td>2</td>\n",
       "      <td>0.0</td>\n",
       "      <td>1</td>\n",
       "      <td>0</td>\n",
       "      <td>1</td>\n",
       "      <td>0</td>\n",
       "      <td>0</td>\n",
       "      <td>0</td>\n",
       "    </tr>\n",
       "    <tr>\n",
       "      <th>3343</th>\n",
       "      <td>62</td>\n",
       "      <td>37</td>\n",
       "      <td>125</td>\n",
       "      <td>1</td>\n",
       "      <td>1.0</td>\n",
       "      <td>3</td>\n",
       "      <td>0</td>\n",
       "      <td>0</td>\n",
       "      <td>0</td>\n",
       "      <td>1</td>\n",
       "      <td>0</td>\n",
       "    </tr>\n",
       "    <tr>\n",
       "      <th>1671</th>\n",
       "      <td>34</td>\n",
       "      <td>9</td>\n",
       "      <td>20</td>\n",
       "      <td>4</td>\n",
       "      <td>1.1</td>\n",
       "      <td>3</td>\n",
       "      <td>0</td>\n",
       "      <td>0</td>\n",
       "      <td>0</td>\n",
       "      <td>1</td>\n",
       "      <td>0</td>\n",
       "    </tr>\n",
       "    <tr>\n",
       "      <th>1740</th>\n",
       "      <td>45</td>\n",
       "      <td>20</td>\n",
       "      <td>59</td>\n",
       "      <td>1</td>\n",
       "      <td>2.4</td>\n",
       "      <td>1</td>\n",
       "      <td>0</td>\n",
       "      <td>1</td>\n",
       "      <td>1</td>\n",
       "      <td>1</td>\n",
       "      <td>0</td>\n",
       "    </tr>\n",
       "    <tr>\n",
       "      <th>4205</th>\n",
       "      <td>61</td>\n",
       "      <td>36</td>\n",
       "      <td>139</td>\n",
       "      <td>2</td>\n",
       "      <td>3.9</td>\n",
       "      <td>1</td>\n",
       "      <td>0</td>\n",
       "      <td>0</td>\n",
       "      <td>0</td>\n",
       "      <td>0</td>\n",
       "      <td>0</td>\n",
       "    </tr>\n",
       "    <tr>\n",
       "      <th>...</th>\n",
       "      <td>...</td>\n",
       "      <td>...</td>\n",
       "      <td>...</td>\n",
       "      <td>...</td>\n",
       "      <td>...</td>\n",
       "      <td>...</td>\n",
       "      <td>...</td>\n",
       "      <td>...</td>\n",
       "      <td>...</td>\n",
       "      <td>...</td>\n",
       "      <td>...</td>\n",
       "    </tr>\n",
       "    <tr>\n",
       "      <th>3470</th>\n",
       "      <td>57</td>\n",
       "      <td>31</td>\n",
       "      <td>175</td>\n",
       "      <td>2</td>\n",
       "      <td>0.5</td>\n",
       "      <td>1</td>\n",
       "      <td>429</td>\n",
       "      <td>0</td>\n",
       "      <td>0</td>\n",
       "      <td>1</td>\n",
       "      <td>1</td>\n",
       "    </tr>\n",
       "    <tr>\n",
       "      <th>2328</th>\n",
       "      <td>27</td>\n",
       "      <td>2</td>\n",
       "      <td>130</td>\n",
       "      <td>3</td>\n",
       "      <td>4.4</td>\n",
       "      <td>1</td>\n",
       "      <td>192</td>\n",
       "      <td>0</td>\n",
       "      <td>0</td>\n",
       "      <td>1</td>\n",
       "      <td>0</td>\n",
       "    </tr>\n",
       "    <tr>\n",
       "      <th>3038</th>\n",
       "      <td>34</td>\n",
       "      <td>8</td>\n",
       "      <td>39</td>\n",
       "      <td>4</td>\n",
       "      <td>0.2</td>\n",
       "      <td>1</td>\n",
       "      <td>115</td>\n",
       "      <td>0</td>\n",
       "      <td>0</td>\n",
       "      <td>1</td>\n",
       "      <td>0</td>\n",
       "    </tr>\n",
       "    <tr>\n",
       "      <th>1914</th>\n",
       "      <td>48</td>\n",
       "      <td>24</td>\n",
       "      <td>54</td>\n",
       "      <td>1</td>\n",
       "      <td>1.6</td>\n",
       "      <td>2</td>\n",
       "      <td>186</td>\n",
       "      <td>0</td>\n",
       "      <td>0</td>\n",
       "      <td>1</td>\n",
       "      <td>0</td>\n",
       "    </tr>\n",
       "    <tr>\n",
       "      <th>2536</th>\n",
       "      <td>51</td>\n",
       "      <td>25</td>\n",
       "      <td>104</td>\n",
       "      <td>1</td>\n",
       "      <td>4.2</td>\n",
       "      <td>2</td>\n",
       "      <td>0</td>\n",
       "      <td>0</td>\n",
       "      <td>0</td>\n",
       "      <td>1</td>\n",
       "      <td>0</td>\n",
       "    </tr>\n",
       "  </tbody>\n",
       "</table>\n",
       "<p>3490 rows × 11 columns</p>\n",
       "</div>"
      ],
      "text/plain": [
       "      Age  Experience  Income Family  CCAvg Education  Mortgage  \\\n",
       "2546   50          25       9      2    0.0         1         0   \n",
       "3343   62          37     125      1    1.0         3         0   \n",
       "1671   34           9      20      4    1.1         3         0   \n",
       "1740   45          20      59      1    2.4         1         0   \n",
       "4205   61          36     139      2    3.9         1         0   \n",
       "...   ...         ...     ...    ...    ...       ...       ...   \n",
       "3470   57          31     175      2    0.5         1       429   \n",
       "2328   27           2     130      3    4.4         1       192   \n",
       "3038   34           8      39      4    0.2         1       115   \n",
       "1914   48          24      54      1    1.6         2       186   \n",
       "2536   51          25     104      1    4.2         2         0   \n",
       "\n",
       "     Securities Account CD Account Online CreditCard  \n",
       "2546                  1          0      0          0  \n",
       "3343                  0          0      1          0  \n",
       "1671                  0          0      1          0  \n",
       "1740                  1          1      1          0  \n",
       "4205                  0          0      0          0  \n",
       "...                 ...        ...    ...        ...  \n",
       "3470                  0          0      1          1  \n",
       "2328                  0          0      1          0  \n",
       "3038                  0          0      1          0  \n",
       "1914                  0          0      1          0  \n",
       "2536                  0          0      1          0  \n",
       "\n",
       "[3490 rows x 11 columns]"
      ]
     },
     "execution_count": 26,
     "metadata": {},
     "output_type": "execute_result"
    }
   ],
   "source": [
    "#veiwing our train set\n",
    "X_train"
   ]
  },
  {
   "cell_type": "markdown",
   "metadata": {},
   "source": [
    "We can see our numerical data are on different scales so we have to bring them to the same scale"
   ]
  },
  {
   "cell_type": "markdown",
   "metadata": {},
   "source": [
    "## Feature Engineering"
   ]
  },
  {
   "cell_type": "markdown",
   "metadata": {},
   "source": [
    "### Normalizing our data"
   ]
  },
  {
   "cell_type": "code",
   "execution_count": 27,
   "metadata": {},
   "outputs": [],
   "source": [
    "from sklearn.preprocessing import MinMaxScaler\n",
    "\n",
    "# define the scaler\n",
    "scaler = MinMaxScaler()\n",
    "# fit on the training dataset\n",
    "scaler.fit(X_train)\n",
    "# scale the training dataset\n",
    "X_train = scaler.transform(X_train)\n",
    "# scale the test dataset\n",
    "X_test = scaler.transform(X_test)"
   ]
  },
  {
   "cell_type": "code",
   "execution_count": 28,
   "metadata": {},
   "outputs": [
    {
     "data": {
      "text/html": [
       "<div>\n",
       "<style scoped>\n",
       "    .dataframe tbody tr th:only-of-type {\n",
       "        vertical-align: middle;\n",
       "    }\n",
       "\n",
       "    .dataframe tbody tr th {\n",
       "        vertical-align: top;\n",
       "    }\n",
       "\n",
       "    .dataframe thead th {\n",
       "        text-align: right;\n",
       "    }\n",
       "</style>\n",
       "<table border=\"1\" class=\"dataframe\">\n",
       "  <thead>\n",
       "    <tr style=\"text-align: right;\">\n",
       "      <th></th>\n",
       "      <th>Age</th>\n",
       "      <th>Experience</th>\n",
       "      <th>Income</th>\n",
       "      <th>Family</th>\n",
       "      <th>CCAvg</th>\n",
       "      <th>Education</th>\n",
       "      <th>Mortgage</th>\n",
       "      <th>Securities Account</th>\n",
       "      <th>CD Account</th>\n",
       "      <th>Online</th>\n",
       "      <th>CreditCard</th>\n",
       "    </tr>\n",
       "  </thead>\n",
       "  <tbody>\n",
       "    <tr>\n",
       "      <th>0</th>\n",
       "      <td>0.613636</td>\n",
       "      <td>0.608696</td>\n",
       "      <td>0.004762</td>\n",
       "      <td>0.333333</td>\n",
       "      <td>0.00</td>\n",
       "      <td>0.0</td>\n",
       "      <td>0.0</td>\n",
       "      <td>1.0</td>\n",
       "      <td>0.0</td>\n",
       "      <td>0.0</td>\n",
       "      <td>0.0</td>\n",
       "    </tr>\n",
       "    <tr>\n",
       "      <th>1</th>\n",
       "      <td>0.886364</td>\n",
       "      <td>0.869565</td>\n",
       "      <td>0.557143</td>\n",
       "      <td>0.000000</td>\n",
       "      <td>0.10</td>\n",
       "      <td>1.0</td>\n",
       "      <td>0.0</td>\n",
       "      <td>0.0</td>\n",
       "      <td>0.0</td>\n",
       "      <td>1.0</td>\n",
       "      <td>0.0</td>\n",
       "    </tr>\n",
       "    <tr>\n",
       "      <th>2</th>\n",
       "      <td>0.250000</td>\n",
       "      <td>0.260870</td>\n",
       "      <td>0.057143</td>\n",
       "      <td>1.000000</td>\n",
       "      <td>0.11</td>\n",
       "      <td>1.0</td>\n",
       "      <td>0.0</td>\n",
       "      <td>0.0</td>\n",
       "      <td>0.0</td>\n",
       "      <td>1.0</td>\n",
       "      <td>0.0</td>\n",
       "    </tr>\n",
       "    <tr>\n",
       "      <th>3</th>\n",
       "      <td>0.500000</td>\n",
       "      <td>0.500000</td>\n",
       "      <td>0.242857</td>\n",
       "      <td>0.000000</td>\n",
       "      <td>0.24</td>\n",
       "      <td>0.0</td>\n",
       "      <td>0.0</td>\n",
       "      <td>1.0</td>\n",
       "      <td>1.0</td>\n",
       "      <td>1.0</td>\n",
       "      <td>0.0</td>\n",
       "    </tr>\n",
       "    <tr>\n",
       "      <th>4</th>\n",
       "      <td>0.863636</td>\n",
       "      <td>0.847826</td>\n",
       "      <td>0.623810</td>\n",
       "      <td>0.333333</td>\n",
       "      <td>0.39</td>\n",
       "      <td>0.0</td>\n",
       "      <td>0.0</td>\n",
       "      <td>0.0</td>\n",
       "      <td>0.0</td>\n",
       "      <td>0.0</td>\n",
       "      <td>0.0</td>\n",
       "    </tr>\n",
       "  </tbody>\n",
       "</table>\n",
       "</div>"
      ],
      "text/plain": [
       "        Age  Experience    Income    Family  CCAvg  Education  Mortgage  \\\n",
       "0  0.613636    0.608696  0.004762  0.333333   0.00        0.0       0.0   \n",
       "1  0.886364    0.869565  0.557143  0.000000   0.10        1.0       0.0   \n",
       "2  0.250000    0.260870  0.057143  1.000000   0.11        1.0       0.0   \n",
       "3  0.500000    0.500000  0.242857  0.000000   0.24        0.0       0.0   \n",
       "4  0.863636    0.847826  0.623810  0.333333   0.39        0.0       0.0   \n",
       "\n",
       "   Securities Account  CD Account  Online  CreditCard  \n",
       "0                 1.0         0.0     0.0         0.0  \n",
       "1                 0.0         0.0     1.0         0.0  \n",
       "2                 0.0         0.0     1.0         0.0  \n",
       "3                 1.0         1.0     1.0         0.0  \n",
       "4                 0.0         0.0     0.0         0.0  "
      ]
     },
     "execution_count": 28,
     "metadata": {},
     "output_type": "execute_result"
    }
   ],
   "source": [
    "#putting our fitted and transformed train set in a dataframe\n",
    "X_train = pd.DataFrame(X_train, columns = ['Age', 'Experience', 'Income', 'Family', 'CCAvg', 'Education',\n",
    "       'Mortgage', 'Securities Account', 'CD Account',\n",
    "       'Online', 'CreditCard'] )\n",
    "X_train.head()"
   ]
  },
  {
   "cell_type": "code",
   "execution_count": 29,
   "metadata": {
    "scrolled": true
   },
   "outputs": [
    {
     "data": {
      "text/html": [
       "<div>\n",
       "<style scoped>\n",
       "    .dataframe tbody tr th:only-of-type {\n",
       "        vertical-align: middle;\n",
       "    }\n",
       "\n",
       "    .dataframe tbody tr th {\n",
       "        vertical-align: top;\n",
       "    }\n",
       "\n",
       "    .dataframe thead th {\n",
       "        text-align: right;\n",
       "    }\n",
       "</style>\n",
       "<table border=\"1\" class=\"dataframe\">\n",
       "  <thead>\n",
       "    <tr style=\"text-align: right;\">\n",
       "      <th></th>\n",
       "      <th>Age</th>\n",
       "      <th>Experience</th>\n",
       "      <th>Income</th>\n",
       "      <th>Family</th>\n",
       "      <th>CCAvg</th>\n",
       "      <th>Education</th>\n",
       "      <th>Mortgage</th>\n",
       "      <th>Securities Account</th>\n",
       "      <th>CD Account</th>\n",
       "      <th>Online</th>\n",
       "      <th>CreditCard</th>\n",
       "    </tr>\n",
       "  </thead>\n",
       "  <tbody>\n",
       "    <tr>\n",
       "      <th>0</th>\n",
       "      <td>0.568182</td>\n",
       "      <td>0.565217</td>\n",
       "      <td>0.761905</td>\n",
       "      <td>0.333333</td>\n",
       "      <td>0.28</td>\n",
       "      <td>0.0</td>\n",
       "      <td>0.499190</td>\n",
       "      <td>0.0</td>\n",
       "      <td>0.0</td>\n",
       "      <td>1.0</td>\n",
       "      <td>0.0</td>\n",
       "    </tr>\n",
       "    <tr>\n",
       "      <th>1</th>\n",
       "      <td>0.340909</td>\n",
       "      <td>0.347826</td>\n",
       "      <td>0.761905</td>\n",
       "      <td>0.333333</td>\n",
       "      <td>0.13</td>\n",
       "      <td>1.0</td>\n",
       "      <td>0.000000</td>\n",
       "      <td>0.0</td>\n",
       "      <td>0.0</td>\n",
       "      <td>0.0</td>\n",
       "      <td>0.0</td>\n",
       "    </tr>\n",
       "    <tr>\n",
       "      <th>2</th>\n",
       "      <td>0.159091</td>\n",
       "      <td>0.195652</td>\n",
       "      <td>0.023810</td>\n",
       "      <td>0.666667</td>\n",
       "      <td>0.09</td>\n",
       "      <td>1.0</td>\n",
       "      <td>0.000000</td>\n",
       "      <td>0.0</td>\n",
       "      <td>0.0</td>\n",
       "      <td>1.0</td>\n",
       "      <td>0.0</td>\n",
       "    </tr>\n",
       "    <tr>\n",
       "      <th>3</th>\n",
       "      <td>0.931818</td>\n",
       "      <td>0.934783</td>\n",
       "      <td>0.033333</td>\n",
       "      <td>0.333333</td>\n",
       "      <td>0.03</td>\n",
       "      <td>1.0</td>\n",
       "      <td>0.186386</td>\n",
       "      <td>0.0</td>\n",
       "      <td>0.0</td>\n",
       "      <td>1.0</td>\n",
       "      <td>1.0</td>\n",
       "    </tr>\n",
       "    <tr>\n",
       "      <th>4</th>\n",
       "      <td>0.818182</td>\n",
       "      <td>0.782609</td>\n",
       "      <td>0.161905</td>\n",
       "      <td>0.000000</td>\n",
       "      <td>0.08</td>\n",
       "      <td>0.5</td>\n",
       "      <td>0.000000</td>\n",
       "      <td>0.0</td>\n",
       "      <td>0.0</td>\n",
       "      <td>1.0</td>\n",
       "      <td>0.0</td>\n",
       "    </tr>\n",
       "  </tbody>\n",
       "</table>\n",
       "</div>"
      ],
      "text/plain": [
       "        Age  Experience    Income    Family  CCAvg  Education  Mortgage  \\\n",
       "0  0.568182    0.565217  0.761905  0.333333   0.28        0.0  0.499190   \n",
       "1  0.340909    0.347826  0.761905  0.333333   0.13        1.0  0.000000   \n",
       "2  0.159091    0.195652  0.023810  0.666667   0.09        1.0  0.000000   \n",
       "3  0.931818    0.934783  0.033333  0.333333   0.03        1.0  0.186386   \n",
       "4  0.818182    0.782609  0.161905  0.000000   0.08        0.5  0.000000   \n",
       "\n",
       "   Securities Account  CD Account  Online  CreditCard  \n",
       "0                 0.0         0.0     1.0         0.0  \n",
       "1                 0.0         0.0     0.0         0.0  \n",
       "2                 0.0         0.0     1.0         0.0  \n",
       "3                 0.0         0.0     1.0         1.0  \n",
       "4                 0.0         0.0     1.0         0.0  "
      ]
     },
     "execution_count": 29,
     "metadata": {},
     "output_type": "execute_result"
    }
   ],
   "source": [
    "#putting our transformed test set in a dataframe\n",
    "X_test = pd.DataFrame(X_test, columns = ['Age', 'Experience', 'Income', 'Family', 'CCAvg', 'Education',\n",
    "       'Mortgage', 'Securities Account', 'CD Account',\n",
    "       'Online', 'CreditCard'] )\n",
    "X_test.head()"
   ]
  },
  {
   "cell_type": "code",
   "execution_count": 30,
   "metadata": {},
   "outputs": [
    {
     "name": "stdout",
     "output_type": "stream",
     "text": [
      "(3490, 11) (1497, 11)\n"
     ]
    }
   ],
   "source": [
    "print(X_train.shape, X_test.shape)"
   ]
  },
  {
   "cell_type": "markdown",
   "metadata": {},
   "source": [
    "## Systematic Experimentation"
   ]
  },
  {
   "cell_type": "markdown",
   "metadata": {},
   "source": [
    "### Choosing the models we'll work with"
   ]
  },
  {
   "cell_type": "markdown",
   "metadata": {},
   "source": [
    "So first we explored our data to understand it better, then we scaled it, and now it's in a good position to be fit into our algorithms. I'll be experimenting with three different algorithms to see which of these three best classifies our data. The algorithms I'll be using include:\n",
    "* SVM \n",
    "* Random Forest\n",
    "* XGBoost\n"
   ]
  },
  {
   "cell_type": "markdown",
   "metadata": {},
   "source": [
    "### Choosing our Evaluation Metrics"
   ]
  },
  {
   "cell_type": "markdown",
   "metadata": {},
   "source": [
    "From the EDA we performed, we know that we're wprking with an imbalanced dataset, we also know that most of the times when dealing with an imbalanced dataset, the False Negatives(FN) are usually more important and costly than the (False Positive)FP. So we'll be choosing a metric that pays attention to our FNs, the metrics we'll be using include:\n",
    "* F2 Score\n",
    "* Recall\n",
    "* Matthew's Correlation Coefficient (MCC)"
   ]
  },
  {
   "cell_type": "markdown",
   "metadata": {},
   "source": [
    "### First let's Build our Baseline Model\n",
    "\n",
    "I will be using a simple KNN classifier as my baseline model because it is my go-to classifier and I've found it serves as a good baseline. The model will be very simple with no data augumentation techniques applied to the dataset, and will serve as a rock-bottom baseline in performance that any other complex algorithm I use must overcome in order to have skill on the dataset."
   ]
  },
  {
   "cell_type": "code",
   "execution_count": 31,
   "metadata": {},
   "outputs": [
    {
     "data": {
      "text/plain": [
       "KNeighborsClassifier(n_neighbors=3)"
      ]
     },
     "execution_count": 31,
     "metadata": {},
     "output_type": "execute_result"
    }
   ],
   "source": [
    "from sklearn.neighbors import KNeighborsClassifier #Model selection\n",
    "\n",
    "knn = KNeighborsClassifier(n_neighbors = 3) #setting my neighbors to 3\n",
    "knn.fit(X_train, y_train) #Training the model"
   ]
  },
  {
   "cell_type": "code",
   "execution_count": 32,
   "metadata": {},
   "outputs": [],
   "source": [
    "pred = knn.predict(X_test)"
   ]
  },
  {
   "cell_type": "code",
   "execution_count": 33,
   "metadata": {},
   "outputs": [
    {
     "data": {
      "text/plain": [
       "1497"
      ]
     },
     "execution_count": 33,
     "metadata": {},
     "output_type": "execute_result"
    }
   ],
   "source": [
    "len(pred)"
   ]
  },
  {
   "cell_type": "code",
   "execution_count": 34,
   "metadata": {},
   "outputs": [],
   "source": [
    "#Evaluating our model\n",
    "from sklearn.metrics import classification_report, confusion_matrix"
   ]
  },
  {
   "cell_type": "code",
   "execution_count": 35,
   "metadata": {
    "scrolled": true
   },
   "outputs": [
    {
     "name": "stdout",
     "output_type": "stream",
     "text": [
      "[[1347    6]\n",
      " [  51   93]]\n"
     ]
    }
   ],
   "source": [
    "print(confusion_matrix(y_test,pred)) #showing how well we classified our FP and FN"
   ]
  },
  {
   "cell_type": "code",
   "execution_count": 36,
   "metadata": {
    "scrolled": true
   },
   "outputs": [
    {
     "data": {
      "text/html": [
       "<div>\n",
       "<style scoped>\n",
       "    .dataframe tbody tr th:only-of-type {\n",
       "        vertical-align: middle;\n",
       "    }\n",
       "\n",
       "    .dataframe tbody tr th {\n",
       "        vertical-align: top;\n",
       "    }\n",
       "\n",
       "    .dataframe thead th {\n",
       "        text-align: right;\n",
       "    }\n",
       "</style>\n",
       "<table border=\"1\" class=\"dataframe\">\n",
       "  <thead>\n",
       "    <tr style=\"text-align: right;\">\n",
       "      <th></th>\n",
       "      <th>Pred: False</th>\n",
       "      <th>Pred: True</th>\n",
       "    </tr>\n",
       "  </thead>\n",
       "  <tbody>\n",
       "    <tr>\n",
       "      <th>Actual: False</th>\n",
       "      <td>1347</td>\n",
       "      <td>6</td>\n",
       "    </tr>\n",
       "    <tr>\n",
       "      <th>Actual: True</th>\n",
       "      <td>51</td>\n",
       "      <td>93</td>\n",
       "    </tr>\n",
       "  </tbody>\n",
       "</table>\n",
       "</div>"
      ],
      "text/plain": [
       "               Pred: False  Pred: True\n",
       "Actual: False         1347           6\n",
       "Actual: True            51          93"
      ]
     },
     "execution_count": 36,
     "metadata": {},
     "output_type": "execute_result"
    }
   ],
   "source": [
    "pd.DataFrame(confusion_matrix(y_test,pred), #visualizing it in a way where it'll make more sense\n",
    "             index = ['Actual: False', 'Actual: True'],\n",
    "             columns = ['Pred: False', 'Pred: True'])"
   ]
  },
  {
   "cell_type": "markdown",
   "metadata": {},
   "source": [
    "From our confusion matrix we can see our baseline model got a lot of FNs as opposed to FPs. Let's look at our classification report to make more sense of it"
   ]
  },
  {
   "cell_type": "code",
   "execution_count": 37,
   "metadata": {
    "scrolled": false
   },
   "outputs": [
    {
     "name": "stdout",
     "output_type": "stream",
     "text": [
      "              precision    recall  f1-score   support\n",
      "\n",
      "           0       0.96      1.00      0.98      1353\n",
      "           1       0.94      0.65      0.77       144\n",
      "\n",
      "    accuracy                           0.96      1497\n",
      "   macro avg       0.95      0.82      0.87      1497\n",
      "weighted avg       0.96      0.96      0.96      1497\n",
      "\n"
     ]
    }
   ],
   "source": [
    "print(classification_report(y_test,pred))"
   ]
  },
  {
   "cell_type": "markdown",
   "metadata": {},
   "source": [
    "From our classification report we can see that our recall on our minority class is quite low, being just 65%"
   ]
  },
  {
   "cell_type": "code",
   "execution_count": 38,
   "metadata": {},
   "outputs": [
    {
     "name": "stdout",
     "output_type": "stream",
     "text": [
      "F2_score: 0.69\n",
      "MCC: 0.76\n"
     ]
    }
   ],
   "source": [
    "# calculate the f2-measure and MCC\n",
    "from sklearn.metrics import fbeta_score\n",
    "from sklearn.metrics import matthews_corrcoef\n",
    "\n",
    "f2 = fbeta_score(y_test, pred, beta=2.0)\n",
    "MCC = matthews_corrcoef(y_test, pred)\n",
    "print('F2_score: %.2f' % (f2))\n",
    "print('MCC: %.2f' % (MCC))\n"
   ]
  },
  {
   "cell_type": "markdown",
   "metadata": {},
   "source": [
    "### Results for our baseline model\n",
    "\n",
    "* Recall = 65%\n",
    "* F2_score = 69%\n",
    "* MCC = 76%\n",
    "\n",
    "Now we can move ahead to create our more complex models that will be tested against our baseline model"
   ]
  },
  {
   "cell_type": "markdown",
   "metadata": {},
   "source": [
    "## The SVM Model"
   ]
  },
  {
   "cell_type": "markdown",
   "metadata": {},
   "source": [
    "### Working with our imbalanced dataset"
   ]
  },
  {
   "cell_type": "code",
   "execution_count": 39,
   "metadata": {},
   "outputs": [],
   "source": [
    "from sklearn.svm import SVC #importing our classifier\n",
    "\n",
    "svm = SVC()   #housing our classifier in a variable\n",
    "svm.fit(X_train, y_train)   #feeding our data to our classifier\n",
    "svm_pred = svm.predict(X_test)  #predicting our model"
   ]
  },
  {
   "cell_type": "code",
   "execution_count": 40,
   "metadata": {
    "scrolled": false
   },
   "outputs": [
    {
     "data": {
      "text/html": [
       "<div>\n",
       "<style scoped>\n",
       "    .dataframe tbody tr th:only-of-type {\n",
       "        vertical-align: middle;\n",
       "    }\n",
       "\n",
       "    .dataframe tbody tr th {\n",
       "        vertical-align: top;\n",
       "    }\n",
       "\n",
       "    .dataframe thead th {\n",
       "        text-align: right;\n",
       "    }\n",
       "</style>\n",
       "<table border=\"1\" class=\"dataframe\">\n",
       "  <thead>\n",
       "    <tr style=\"text-align: right;\">\n",
       "      <th></th>\n",
       "      <th>Pred: False</th>\n",
       "      <th>Pred: True</th>\n",
       "    </tr>\n",
       "  </thead>\n",
       "  <tbody>\n",
       "    <tr>\n",
       "      <th>Actual: False</th>\n",
       "      <td>1349</td>\n",
       "      <td>4</td>\n",
       "    </tr>\n",
       "    <tr>\n",
       "      <th>Actual: True</th>\n",
       "      <td>32</td>\n",
       "      <td>112</td>\n",
       "    </tr>\n",
       "  </tbody>\n",
       "</table>\n",
       "</div>"
      ],
      "text/plain": [
       "               Pred: False  Pred: True\n",
       "Actual: False         1349           4\n",
       "Actual: True            32         112"
      ]
     },
     "execution_count": 40,
     "metadata": {},
     "output_type": "execute_result"
    }
   ],
   "source": [
    "pd.DataFrame(confusion_matrix(y_test,svm_pred), #visualizing it in a way where it'll make more sense\n",
    "             index = ['Actual: False', 'Actual: True'],\n",
    "             columns = ['Pred: False', 'Pred: True'])"
   ]
  },
  {
   "cell_type": "markdown",
   "metadata": {},
   "source": [
    "We can see from our confusion matrix that we got a better result than that of our baseline classifier, now let's check our classification report for more details"
   ]
  },
  {
   "cell_type": "code",
   "execution_count": 41,
   "metadata": {},
   "outputs": [
    {
     "name": "stdout",
     "output_type": "stream",
     "text": [
      "              precision    recall  f1-score   support\n",
      "\n",
      "           0       0.98      1.00      0.99      1353\n",
      "           1       0.97      0.78      0.86       144\n",
      "\n",
      "    accuracy                           0.98      1497\n",
      "   macro avg       0.97      0.89      0.92      1497\n",
      "weighted avg       0.98      0.98      0.97      1497\n",
      "\n"
     ]
    }
   ],
   "source": [
    "print(classification_report(y_test,svm_pred))"
   ]
  },
  {
   "cell_type": "markdown",
   "metadata": {},
   "source": [
    "We can see we got a better recall of 78%, let's view the other metrics"
   ]
  },
  {
   "cell_type": "code",
   "execution_count": 42,
   "metadata": {
    "scrolled": true
   },
   "outputs": [
    {
     "name": "stdout",
     "output_type": "stream",
     "text": [
      "F2_score: 0.81\n",
      "MCC: 0.85\n"
     ]
    }
   ],
   "source": [
    "svm_f2 = fbeta_score(y_test, svm_pred, beta=2.0)\n",
    "svm_MCC = matthews_corrcoef(y_test, svm_pred)\n",
    "print('F2_score: %.2f' % (svm_f2))\n",
    "print('MCC: %.2f' % (svm_MCC))"
   ]
  },
  {
   "cell_type": "markdown",
   "metadata": {},
   "source": [
    "### Results for our SVM model on Imbalanced data\n",
    "\n",
    "* Recall = 0.78%\n",
    "* F2_score = 0.81%\n",
    "* MCC = 0.85%\n",
    "\n",
    "Now let's try balancing our dataset, to see if it'll give us a better result"
   ]
  },
  {
   "cell_type": "markdown",
   "metadata": {},
   "source": [
    "### Balancing our dataset by Oversampling using SMOTE"
   ]
  },
  {
   "cell_type": "code",
   "execution_count": 43,
   "metadata": {},
   "outputs": [
    {
     "name": "stdout",
     "output_type": "stream",
     "text": [
      "Before:  Counter({0: 3154, 1: 336})\n",
      "After:  Counter({0: 3154, 1: 3154})\n"
     ]
    }
   ],
   "source": [
    "from collections import Counter\n",
    "from imblearn.over_sampling import SMOTE #importing the oversampler\n",
    "\n",
    "counter = Counter(y_train)\n",
    "print('Before: ', counter)  #our y_train before oversampling\n",
    "smt = SMOTE()\n",
    "X_train_smt, y_train_smt = smt.fit_resample(X_train, y_train) #fiting the oversampler to our train sets \n",
    "counter = Counter(y_train_smt)\n",
    "print('After: ', counter) #our y_train after oversampling"
   ]
  },
  {
   "cell_type": "code",
   "execution_count": 44,
   "metadata": {},
   "outputs": [],
   "source": [
    "#feeding our oversampled data into our model\n",
    "svm.fit(X_train_smt, y_train_smt)\n",
    "smt_pred = svm.predict(X_test) #predicting our test data"
   ]
  },
  {
   "cell_type": "code",
   "execution_count": 45,
   "metadata": {},
   "outputs": [
    {
     "data": {
      "text/html": [
       "<div>\n",
       "<style scoped>\n",
       "    .dataframe tbody tr th:only-of-type {\n",
       "        vertical-align: middle;\n",
       "    }\n",
       "\n",
       "    .dataframe tbody tr th {\n",
       "        vertical-align: top;\n",
       "    }\n",
       "\n",
       "    .dataframe thead th {\n",
       "        text-align: right;\n",
       "    }\n",
       "</style>\n",
       "<table border=\"1\" class=\"dataframe\">\n",
       "  <thead>\n",
       "    <tr style=\"text-align: right;\">\n",
       "      <th></th>\n",
       "      <th>Pred: False</th>\n",
       "      <th>Pred: True</th>\n",
       "    </tr>\n",
       "  </thead>\n",
       "  <tbody>\n",
       "    <tr>\n",
       "      <th>Actual: False</th>\n",
       "      <td>1323</td>\n",
       "      <td>30</td>\n",
       "    </tr>\n",
       "    <tr>\n",
       "      <th>Actual: True</th>\n",
       "      <td>7</td>\n",
       "      <td>137</td>\n",
       "    </tr>\n",
       "  </tbody>\n",
       "</table>\n",
       "</div>"
      ],
      "text/plain": [
       "               Pred: False  Pred: True\n",
       "Actual: False         1323          30\n",
       "Actual: True             7         137"
      ]
     },
     "execution_count": 45,
     "metadata": {},
     "output_type": "execute_result"
    }
   ],
   "source": [
    "pd.DataFrame(confusion_matrix(y_test,smt_pred), #visualizing it in a way where it'll make more sense\n",
    "             index = ['Actual: False', 'Actual: True'],\n",
    "             columns = ['Pred: False', 'Pred: True'])"
   ]
  },
  {
   "cell_type": "markdown",
   "metadata": {},
   "source": [
    "from the confusion matrix above we can see that our predictions of the true positives has improved(136) and our False negatives has decreased which is exactly what we want"
   ]
  },
  {
   "cell_type": "code",
   "execution_count": 46,
   "metadata": {},
   "outputs": [
    {
     "name": "stdout",
     "output_type": "stream",
     "text": [
      "              precision    recall  f1-score   support\n",
      "\n",
      "           0       0.99      0.98      0.99      1353\n",
      "           1       0.82      0.95      0.88       144\n",
      "\n",
      "    accuracy                           0.98      1497\n",
      "   macro avg       0.91      0.96      0.93      1497\n",
      "weighted avg       0.98      0.98      0.98      1497\n",
      "\n"
     ]
    }
   ],
   "source": [
    "print(classification_report(y_test,smt_pred))"
   ]
  },
  {
   "cell_type": "markdown",
   "metadata": {},
   "source": [
    "from our classification report we can see that we have a higher recall of 95%"
   ]
  },
  {
   "cell_type": "code",
   "execution_count": 47,
   "metadata": {},
   "outputs": [
    {
     "name": "stdout",
     "output_type": "stream",
     "text": [
      "F2_score: 0.92\n",
      "MCC: 0.87\n"
     ]
    }
   ],
   "source": [
    "smt_f2 = fbeta_score(y_test, smt_pred, beta=2.0) #checking our F2 score\n",
    "smt_MCC = matthews_corrcoef(y_test, smt_pred)  #checking our MCC\n",
    "print('F2_score: %.2f' % (smt_f2))\n",
    "print('MCC: %.2f' % (smt_MCC))"
   ]
  },
  {
   "cell_type": "markdown",
   "metadata": {},
   "source": [
    "### Results for our Oversampled SVM model\n",
    "\n",
    "* Recall = 0.95%\n",
    "* F2_score = 0.92%\n",
    "* MCC = 0.86%\n",
    "\n",
    "Overall our scoring metrics has improved a great deal, meaning we have a better model for our data, but let's try an undersampling technique "
   ]
  },
  {
   "cell_type": "markdown",
   "metadata": {},
   "source": [
    "### Balancing our dataset by Undersampling using Cluster Centroids"
   ]
  },
  {
   "cell_type": "code",
   "execution_count": 48,
   "metadata": {},
   "outputs": [
    {
     "name": "stdout",
     "output_type": "stream",
     "text": [
      "Before:  Counter({0: 3154, 1: 336})\n",
      "After:  Counter({0: 336, 1: 336})\n"
     ]
    }
   ],
   "source": [
    "from imblearn.under_sampling import ClusterCentroids  #importing our undersampler\n",
    "\n",
    "counter = Counter(y_train)  #before undersampling\n",
    "print('Before: ', counter)\n",
    "CC = ClusterCentroids(random_state=0) \n",
    "X_train_cc, y_train_cc = CC.fit_resample(X_train, y_train)\n",
    "counter = Counter(y_train_cc)  #after undersampling\n",
    "print('After: ', counter)"
   ]
  },
  {
   "cell_type": "code",
   "execution_count": 49,
   "metadata": {},
   "outputs": [],
   "source": [
    "#feeding our undersampled data into our model\n",
    "svm.fit(X_train_cc, y_train_cc)\n",
    "cc_pred = svm.predict(X_test) #predicting our test data"
   ]
  },
  {
   "cell_type": "code",
   "execution_count": 50,
   "metadata": {},
   "outputs": [
    {
     "data": {
      "text/html": [
       "<div>\n",
       "<style scoped>\n",
       "    .dataframe tbody tr th:only-of-type {\n",
       "        vertical-align: middle;\n",
       "    }\n",
       "\n",
       "    .dataframe tbody tr th {\n",
       "        vertical-align: top;\n",
       "    }\n",
       "\n",
       "    .dataframe thead th {\n",
       "        text-align: right;\n",
       "    }\n",
       "</style>\n",
       "<table border=\"1\" class=\"dataframe\">\n",
       "  <thead>\n",
       "    <tr style=\"text-align: right;\">\n",
       "      <th></th>\n",
       "      <th>Pred: False</th>\n",
       "      <th>Pred: True</th>\n",
       "    </tr>\n",
       "  </thead>\n",
       "  <tbody>\n",
       "    <tr>\n",
       "      <th>Actual: False</th>\n",
       "      <td>1274</td>\n",
       "      <td>79</td>\n",
       "    </tr>\n",
       "    <tr>\n",
       "      <th>Actual: True</th>\n",
       "      <td>6</td>\n",
       "      <td>138</td>\n",
       "    </tr>\n",
       "  </tbody>\n",
       "</table>\n",
       "</div>"
      ],
      "text/plain": [
       "               Pred: False  Pred: True\n",
       "Actual: False         1274          79\n",
       "Actual: True             6         138"
      ]
     },
     "execution_count": 50,
     "metadata": {},
     "output_type": "execute_result"
    }
   ],
   "source": [
    "pd.DataFrame(confusion_matrix(y_test, cc_pred), #visualizing it in a way where it'll make more sense\n",
    "             index = ['Actual: False', 'Actual: True'],\n",
    "             columns = ['Pred: False', 'Pred: True'])"
   ]
  },
  {
   "cell_type": "markdown",
   "metadata": {},
   "source": [
    "from the confusion matrix above we can see that our predictions of the true positives has improved even more(138), however, our prediction of the true negatives has decreased even more"
   ]
  },
  {
   "cell_type": "code",
   "execution_count": 51,
   "metadata": {},
   "outputs": [
    {
     "name": "stdout",
     "output_type": "stream",
     "text": [
      "              precision    recall  f1-score   support\n",
      "\n",
      "           0       1.00      0.94      0.97      1353\n",
      "           1       0.64      0.96      0.76       144\n",
      "\n",
      "    accuracy                           0.94      1497\n",
      "   macro avg       0.82      0.95      0.87      1497\n",
      "weighted avg       0.96      0.94      0.95      1497\n",
      "\n"
     ]
    }
   ],
   "source": [
    "print(classification_report(y_test, cc_pred))"
   ]
  },
  {
   "cell_type": "markdown",
   "metadata": {},
   "source": [
    "from our classification report we can see that we also have a higher recall"
   ]
  },
  {
   "cell_type": "code",
   "execution_count": 52,
   "metadata": {},
   "outputs": [
    {
     "name": "stdout",
     "output_type": "stream",
     "text": [
      "F2_score: 0.87\n",
      "MCC: 0.75\n"
     ]
    }
   ],
   "source": [
    "cc_f2 = fbeta_score(y_test, cc_pred, beta=2.0) #checking our F2 score\n",
    "cc_MCC = matthews_corrcoef(y_test, cc_pred)  #checking our MCC\n",
    "print('F2_score: %.2f' % (cc_f2))\n",
    "print('MCC: %.2f' % (cc_MCC))"
   ]
  },
  {
   "cell_type": "markdown",
   "metadata": {},
   "source": [
    "### Results for our Undersampled SVM model\n",
    "\n",
    "* Recall = 0.96%\n",
    "* F2_score = 0.87%\n",
    "* MCC = 0.75%\n",
    "\n",
    "From our results we can see that even though our recall has improved a bit, we have a lower F2 score and MCC score, so it's safe to say that the oversampled model performed better than this undersampled model.\n",
    "\n",
    "Let's see if it can still get better, let's try a combination of both oversampling and undersampling techniques"
   ]
  },
  {
   "cell_type": "markdown",
   "metadata": {},
   "source": [
    "### Balancing our dataset by Combining the SMOTE Oversampling and the ENN undersampling"
   ]
  },
  {
   "cell_type": "code",
   "execution_count": 53,
   "metadata": {},
   "outputs": [
    {
     "name": "stdout",
     "output_type": "stream",
     "text": [
      "Before:  Counter({0: 3154, 1: 336})\n",
      "After:  Counter({1: 3114, 0: 2992})\n"
     ]
    }
   ],
   "source": [
    "from imblearn.combine import SMOTEENN  #importing our undersampler\n",
    "\n",
    "counter = Counter(y_train)  #before undersampling\n",
    "print('Before: ', counter)\n",
    "smenn = SMOTEENN() \n",
    "X_train_smenn, y_train_smenn = smenn.fit_resample(X_train, y_train)\n",
    "counter = Counter(y_train_smenn)  #after undersampling\n",
    "print('After: ', counter)"
   ]
  },
  {
   "cell_type": "code",
   "execution_count": 54,
   "metadata": {},
   "outputs": [],
   "source": [
    "#feeding our combined resampled data into our model\n",
    "svm.fit(X_train_smenn, y_train_smenn)\n",
    "smenn_pred = svm.predict(X_test) #predicting our test data"
   ]
  },
  {
   "cell_type": "code",
   "execution_count": 55,
   "metadata": {},
   "outputs": [
    {
     "data": {
      "text/html": [
       "<div>\n",
       "<style scoped>\n",
       "    .dataframe tbody tr th:only-of-type {\n",
       "        vertical-align: middle;\n",
       "    }\n",
       "\n",
       "    .dataframe tbody tr th {\n",
       "        vertical-align: top;\n",
       "    }\n",
       "\n",
       "    .dataframe thead th {\n",
       "        text-align: right;\n",
       "    }\n",
       "</style>\n",
       "<table border=\"1\" class=\"dataframe\">\n",
       "  <thead>\n",
       "    <tr style=\"text-align: right;\">\n",
       "      <th></th>\n",
       "      <th>Pred: False</th>\n",
       "      <th>Pred: True</th>\n",
       "    </tr>\n",
       "  </thead>\n",
       "  <tbody>\n",
       "    <tr>\n",
       "      <th>Actual: False</th>\n",
       "      <td>1314</td>\n",
       "      <td>39</td>\n",
       "    </tr>\n",
       "    <tr>\n",
       "      <th>Actual: True</th>\n",
       "      <td>5</td>\n",
       "      <td>139</td>\n",
       "    </tr>\n",
       "  </tbody>\n",
       "</table>\n",
       "</div>"
      ],
      "text/plain": [
       "               Pred: False  Pred: True\n",
       "Actual: False         1314          39\n",
       "Actual: True             5         139"
      ]
     },
     "execution_count": 55,
     "metadata": {},
     "output_type": "execute_result"
    }
   ],
   "source": [
    "pd.DataFrame(confusion_matrix(y_test, smenn_pred), #visualizing it in a way where it'll make more sense\n",
    "             index = ['Actual: False', 'Actual: True'],\n",
    "             columns = ['Pred: False', 'Pred: True'])"
   ]
  },
  {
   "cell_type": "markdown",
   "metadata": {},
   "source": [
    "from the confusion matrix above we can see that our predictions of the true positives and true negatives has really improved!"
   ]
  },
  {
   "cell_type": "code",
   "execution_count": 56,
   "metadata": {},
   "outputs": [
    {
     "name": "stdout",
     "output_type": "stream",
     "text": [
      "              precision    recall  f1-score   support\n",
      "\n",
      "           0       1.00      0.97      0.98      1353\n",
      "           1       0.78      0.97      0.86       144\n",
      "\n",
      "    accuracy                           0.97      1497\n",
      "   macro avg       0.89      0.97      0.92      1497\n",
      "weighted avg       0.98      0.97      0.97      1497\n",
      "\n"
     ]
    }
   ],
   "source": [
    "print(classification_report(y_test, smenn_pred))"
   ]
  },
  {
   "cell_type": "markdown",
   "metadata": {},
   "source": [
    "We are seeing an improvement in the recall which is great!"
   ]
  },
  {
   "cell_type": "code",
   "execution_count": 57,
   "metadata": {},
   "outputs": [
    {
     "name": "stdout",
     "output_type": "stream",
     "text": [
      "F2_score: 0.92\n",
      "MCC: 0.85\n"
     ]
    }
   ],
   "source": [
    "smenn_f2 = fbeta_score(y_test, smenn_pred, beta=2.0) #checking our F2 score\n",
    "smenn_MCC = matthews_corrcoef(y_test, smenn_pred)  #checking our MCC\n",
    "print('F2_score: %.2f' % (smenn_f2))\n",
    "print('MCC: %.2f' % (smenn_MCC))"
   ]
  },
  {
   "cell_type": "markdown",
   "metadata": {},
   "source": [
    "### Results for our Combination resampled SVM model\n",
    "\n",
    "* Recall = 0.97%\n",
    "* F2_score = 0.91%\n",
    "* MCC = 0.83%\n",
    "\n",
    "We can see an improvement in our F2 score and MCC score from that of the undersampled model and our recall has greatly improved. Even though our oversampled model gave us a better F2 and MCC score, we can see from our confusion matrix that this model classifies our minority class better so we will have to go with this Combined SVM model as our best model for best classifying the minority class in our dataset"
   ]
  },
  {
   "cell_type": "markdown",
   "metadata": {},
   "source": [
    "## The Random Forest Model"
   ]
  },
  {
   "cell_type": "markdown",
   "metadata": {},
   "source": [
    "### Working with our imbalanced dataset"
   ]
  },
  {
   "cell_type": "code",
   "execution_count": 58,
   "metadata": {},
   "outputs": [],
   "source": [
    "from sklearn.ensemble import RandomForestClassifier  #importing our classifier\n",
    "\n",
    "rfc = RandomForestClassifier(random_state = 0)  #housing our classifier in a variable\n",
    "rfc.fit(X_train, y_train)    #feeding our data to the classifier\n",
    "rfc_pred = rfc.predict(X_test)   #predictiong our model"
   ]
  },
  {
   "cell_type": "code",
   "execution_count": 59,
   "metadata": {},
   "outputs": [
    {
     "data": {
      "text/html": [
       "<div>\n",
       "<style scoped>\n",
       "    .dataframe tbody tr th:only-of-type {\n",
       "        vertical-align: middle;\n",
       "    }\n",
       "\n",
       "    .dataframe tbody tr th {\n",
       "        vertical-align: top;\n",
       "    }\n",
       "\n",
       "    .dataframe thead th {\n",
       "        text-align: right;\n",
       "    }\n",
       "</style>\n",
       "<table border=\"1\" class=\"dataframe\">\n",
       "  <thead>\n",
       "    <tr style=\"text-align: right;\">\n",
       "      <th></th>\n",
       "      <th>Pred: False</th>\n",
       "      <th>Pred: True</th>\n",
       "    </tr>\n",
       "  </thead>\n",
       "  <tbody>\n",
       "    <tr>\n",
       "      <th>Actual: False</th>\n",
       "      <td>1349</td>\n",
       "      <td>4</td>\n",
       "    </tr>\n",
       "    <tr>\n",
       "      <th>Actual: True</th>\n",
       "      <td>14</td>\n",
       "      <td>130</td>\n",
       "    </tr>\n",
       "  </tbody>\n",
       "</table>\n",
       "</div>"
      ],
      "text/plain": [
       "               Pred: False  Pred: True\n",
       "Actual: False         1349           4\n",
       "Actual: True            14         130"
      ]
     },
     "execution_count": 59,
     "metadata": {},
     "output_type": "execute_result"
    }
   ],
   "source": [
    "pd.DataFrame(confusion_matrix(y_test, rfc_pred), #visualizing it in a way where it'll make more sense\n",
    "             index = ['Actual: False', 'Actual: True'],\n",
    "             columns = ['Pred: False', 'Pred: True'])"
   ]
  },
  {
   "cell_type": "markdown",
   "metadata": {},
   "source": [
    "We can see from our confusion matrix that this classifier performed way better than our baseline classifier and imbalanced SVM model, and we didn't even use our balanced dataset, and we can also notice that our model classified the majority class better than the minority class.\n",
    "\n",
    "Let's quickly see the classification report"
   ]
  },
  {
   "cell_type": "code",
   "execution_count": 60,
   "metadata": {
    "scrolled": true
   },
   "outputs": [
    {
     "name": "stdout",
     "output_type": "stream",
     "text": [
      "              precision    recall  f1-score   support\n",
      "\n",
      "           0       0.99      1.00      0.99      1353\n",
      "           1       0.97      0.90      0.94       144\n",
      "\n",
      "    accuracy                           0.99      1497\n",
      "   macro avg       0.98      0.95      0.96      1497\n",
      "weighted avg       0.99      0.99      0.99      1497\n",
      "\n"
     ]
    }
   ],
   "source": [
    "print(classification_report(y_test,rfc_pred))"
   ]
  },
  {
   "cell_type": "markdown",
   "metadata": {},
   "source": [
    "We can see that our recall is 90%, which is great given the class imbalance"
   ]
  },
  {
   "cell_type": "code",
   "execution_count": 61,
   "metadata": {},
   "outputs": [
    {
     "name": "stdout",
     "output_type": "stream",
     "text": [
      "F2_score: 0.92\n",
      "MCC: 0.93\n"
     ]
    }
   ],
   "source": [
    "rfc_f2 = fbeta_score(y_test, rfc_pred, beta=2.0) #checking our F2 score\n",
    "rfc_MCC = matthews_corrcoef(y_test, rfc_pred)  #checking our MCC\n",
    "print('F2_score: %.2f' % (rfc_f2))\n",
    "print('MCC: %.2f' % (rfc_MCC))"
   ]
  },
  {
   "cell_type": "markdown",
   "metadata": {},
   "source": [
    "### Results for our Random Forest model on Imbalanced dataset\n",
    "\n",
    "* Recall = 0.90%\n",
    "* F2_score = 0.92%\n",
    "* MCC = 0.93%\n",
    "\n",
    "The results are in and our RFC is looking like a sweet model for handling class imbalance, our F2 and MCC scores are also pretty high! Let's see how our classifier will perform when the dataset has been balanced."
   ]
  },
  {
   "cell_type": "markdown",
   "metadata": {},
   "source": [
    "### Using our SMOTE Oversampled dataset"
   ]
  },
  {
   "cell_type": "code",
   "execution_count": 62,
   "metadata": {},
   "outputs": [],
   "source": [
    "#feeding our oversampled data into our classifier\n",
    "rfc.fit(X_train_smt, y_train_smt)\n",
    "rfc_smt_pred = rfc.predict(X_test) #predicting our test data"
   ]
  },
  {
   "cell_type": "code",
   "execution_count": 63,
   "metadata": {},
   "outputs": [
    {
     "data": {
      "text/html": [
       "<div>\n",
       "<style scoped>\n",
       "    .dataframe tbody tr th:only-of-type {\n",
       "        vertical-align: middle;\n",
       "    }\n",
       "\n",
       "    .dataframe tbody tr th {\n",
       "        vertical-align: top;\n",
       "    }\n",
       "\n",
       "    .dataframe thead th {\n",
       "        text-align: right;\n",
       "    }\n",
       "</style>\n",
       "<table border=\"1\" class=\"dataframe\">\n",
       "  <thead>\n",
       "    <tr style=\"text-align: right;\">\n",
       "      <th></th>\n",
       "      <th>Pred: False</th>\n",
       "      <th>Pred: True</th>\n",
       "    </tr>\n",
       "  </thead>\n",
       "  <tbody>\n",
       "    <tr>\n",
       "      <th>Actual: False</th>\n",
       "      <td>1343</td>\n",
       "      <td>10</td>\n",
       "    </tr>\n",
       "    <tr>\n",
       "      <th>Actual: True</th>\n",
       "      <td>5</td>\n",
       "      <td>139</td>\n",
       "    </tr>\n",
       "  </tbody>\n",
       "</table>\n",
       "</div>"
      ],
      "text/plain": [
       "               Pred: False  Pred: True\n",
       "Actual: False         1343          10\n",
       "Actual: True             5         139"
      ]
     },
     "execution_count": 63,
     "metadata": {},
     "output_type": "execute_result"
    }
   ],
   "source": [
    "pd.DataFrame(confusion_matrix(y_test, rfc_smt_pred),   #visualizing our confusion matrix in a way that it'll make more sense\n",
    "             index = ['Actual: False', 'Actual: True'],\n",
    "             columns = ['Pred: False', 'Pred: True'])"
   ]
  },
  {
   "cell_type": "markdown",
   "metadata": {},
   "source": [
    "From our confusion matrix we can see that on the oversampled dataset the RF classifier has classified our minority class better even though its accuracy for classifying the majority class has reduced a bit\n",
    "\n",
    "Let's check our classification report and other metrics scores to gain more insight"
   ]
  },
  {
   "cell_type": "code",
   "execution_count": 64,
   "metadata": {},
   "outputs": [
    {
     "name": "stdout",
     "output_type": "stream",
     "text": [
      "              precision    recall  f1-score   support\n",
      "\n",
      "           0       1.00      0.99      0.99      1353\n",
      "           1       0.93      0.97      0.95       144\n",
      "\n",
      "    accuracy                           0.99      1497\n",
      "   macro avg       0.96      0.98      0.97      1497\n",
      "weighted avg       0.99      0.99      0.99      1497\n",
      "\n"
     ]
    }
   ],
   "source": [
    "print(classification_report(y_test, rfc_smt_pred))"
   ]
  },
  {
   "cell_type": "markdown",
   "metadata": {},
   "source": [
    "we can see we got a way higher recall of 96%, let's check our F2 and MCC scores"
   ]
  },
  {
   "cell_type": "code",
   "execution_count": 65,
   "metadata": {},
   "outputs": [
    {
     "name": "stdout",
     "output_type": "stream",
     "text": [
      "F2_score: 0.96\n",
      "MCC: 0.94\n"
     ]
    }
   ],
   "source": [
    "rfc_smt_f2 = fbeta_score(y_test, rfc_smt_pred, beta =2.0) #checking our f2 score\n",
    "rfc_smt_MCC = matthews_corrcoef (y_test, rfc_smt_pred)    #checking our MCC\n",
    "\n",
    "print('F2_score: %.2f' %(rfc_smt_f2))\n",
    "print('MCC: %.2f' %(rfc_smt_MCC))"
   ]
  },
  {
   "cell_type": "markdown",
   "metadata": {},
   "source": [
    "### Results for our Oversampled Random Forest model\n",
    "\n",
    "* Recall = 0.96%\n",
    "* F2_score = 0.95%\n",
    "* MCC = 0.94%\n",
    "\n",
    "From the results we can see that we got higher scores fpr all our metrics which is great! Let's try using another resampling technique to see if our classifier will perform better"
   ]
  },
  {
   "cell_type": "markdown",
   "metadata": {},
   "source": [
    "### Using our Undersampled dataset"
   ]
  },
  {
   "cell_type": "code",
   "execution_count": 66,
   "metadata": {},
   "outputs": [],
   "source": [
    "#feeding our undersampled data into our classifier\n",
    "rfc.fit(X_train_cc, y_train_cc)\n",
    "rfc_cc_pred = rfc.predict(X_test) #predicting our test data"
   ]
  },
  {
   "cell_type": "code",
   "execution_count": 67,
   "metadata": {},
   "outputs": [
    {
     "data": {
      "text/html": [
       "<div>\n",
       "<style scoped>\n",
       "    .dataframe tbody tr th:only-of-type {\n",
       "        vertical-align: middle;\n",
       "    }\n",
       "\n",
       "    .dataframe tbody tr th {\n",
       "        vertical-align: top;\n",
       "    }\n",
       "\n",
       "    .dataframe thead th {\n",
       "        text-align: right;\n",
       "    }\n",
       "</style>\n",
       "<table border=\"1\" class=\"dataframe\">\n",
       "  <thead>\n",
       "    <tr style=\"text-align: right;\">\n",
       "      <th></th>\n",
       "      <th>Pred: False</th>\n",
       "      <th>Pred: True</th>\n",
       "    </tr>\n",
       "  </thead>\n",
       "  <tbody>\n",
       "    <tr>\n",
       "      <th>Actual: False</th>\n",
       "      <td>1247</td>\n",
       "      <td>106</td>\n",
       "    </tr>\n",
       "    <tr>\n",
       "      <th>Actual: True</th>\n",
       "      <td>1</td>\n",
       "      <td>143</td>\n",
       "    </tr>\n",
       "  </tbody>\n",
       "</table>\n",
       "</div>"
      ],
      "text/plain": [
       "               Pred: False  Pred: True\n",
       "Actual: False         1247         106\n",
       "Actual: True             1         143"
      ]
     },
     "execution_count": 67,
     "metadata": {},
     "output_type": "execute_result"
    }
   ],
   "source": [
    "pd.DataFrame(confusion_matrix(y_test, rfc_cc_pred),   #visualizing our confusion matrix in a way that it'll make more sense\n",
    "             index = ['Actual: False', 'Actual: True'],\n",
    "             columns = ['Pred: False', 'Pred: True'])"
   ]
  },
  {
   "cell_type": "markdown",
   "metadata": {},
   "source": [
    "From our confusion matrix we can see this model classifies our minority class so well but has cost us some accuracy in our majority class, let's try seeing our classification report"
   ]
  },
  {
   "cell_type": "code",
   "execution_count": 68,
   "metadata": {},
   "outputs": [
    {
     "name": "stdout",
     "output_type": "stream",
     "text": [
      "              precision    recall  f1-score   support\n",
      "\n",
      "           0       1.00      0.92      0.96      1353\n",
      "           1       0.57      0.99      0.73       144\n",
      "\n",
      "    accuracy                           0.93      1497\n",
      "   macro avg       0.79      0.96      0.84      1497\n",
      "weighted avg       0.96      0.93      0.94      1497\n",
      "\n"
     ]
    }
   ],
   "source": [
    "print(classification_report(y_test, rfc_cc_pred))"
   ]
  },
  {
   "cell_type": "markdown",
   "metadata": {},
   "source": [
    "As expected our recall has gone up to 99%, let's see how our F2 and MCC scores are doing"
   ]
  },
  {
   "cell_type": "code",
   "execution_count": 69,
   "metadata": {},
   "outputs": [
    {
     "name": "stdout",
     "output_type": "stream",
     "text": [
      "F2_score: 0.87\n",
      "MCC: 0.72\n"
     ]
    }
   ],
   "source": [
    "rfc_cc_f2 = fbeta_score(y_test, rfc_cc_pred, beta =2.0) #checking our f2 score\n",
    "rfc_cc_MCC = matthews_corrcoef (y_test, rfc_cc_pred)    #checking our MCC\n",
    "\n",
    "print('F2_score: %.2f' %(rfc_cc_f2))\n",
    "print('MCC: %.2f' %(rfc_cc_MCC))"
   ]
  },
  {
   "cell_type": "markdown",
   "metadata": {},
   "source": [
    "### Results for our Undersampled Random Forest model\n",
    "\n",
    "* Recall = 0.99%\n",
    "* F2_score = 0.87%\n",
    "* MCC = 0.72%\n",
    "\n",
    "From the results we can see that we got a really high recall which is good, but this cost us our F2 and MCC scores due to poor classification of the majority class. Let's see if we can strike a good balance by using the combined resampling technique."
   ]
  },
  {
   "cell_type": "markdown",
   "metadata": {},
   "source": [
    "### Using our dataset resampled by Combining the SMOTE Oversampling and the ENN undersampling"
   ]
  },
  {
   "cell_type": "code",
   "execution_count": 70,
   "metadata": {},
   "outputs": [],
   "source": [
    "#feeding our combined resampled data into our classifier\n",
    "rfc.fit(X_train_smenn, y_train_smenn)\n",
    "rfc_smenn_pred = rfc.predict(X_test) #predicting our test data"
   ]
  },
  {
   "cell_type": "code",
   "execution_count": 71,
   "metadata": {},
   "outputs": [
    {
     "data": {
      "text/html": [
       "<div>\n",
       "<style scoped>\n",
       "    .dataframe tbody tr th:only-of-type {\n",
       "        vertical-align: middle;\n",
       "    }\n",
       "\n",
       "    .dataframe tbody tr th {\n",
       "        vertical-align: top;\n",
       "    }\n",
       "\n",
       "    .dataframe thead th {\n",
       "        text-align: right;\n",
       "    }\n",
       "</style>\n",
       "<table border=\"1\" class=\"dataframe\">\n",
       "  <thead>\n",
       "    <tr style=\"text-align: right;\">\n",
       "      <th></th>\n",
       "      <th>Pred: False</th>\n",
       "      <th>Pred: True</th>\n",
       "    </tr>\n",
       "  </thead>\n",
       "  <tbody>\n",
       "    <tr>\n",
       "      <th>Actual: False</th>\n",
       "      <td>1339</td>\n",
       "      <td>14</td>\n",
       "    </tr>\n",
       "    <tr>\n",
       "      <th>Actual: True</th>\n",
       "      <td>4</td>\n",
       "      <td>140</td>\n",
       "    </tr>\n",
       "  </tbody>\n",
       "</table>\n",
       "</div>"
      ],
      "text/plain": [
       "               Pred: False  Pred: True\n",
       "Actual: False         1339          14\n",
       "Actual: True             4         140"
      ]
     },
     "execution_count": 71,
     "metadata": {},
     "output_type": "execute_result"
    }
   ],
   "source": [
    "pd.DataFrame(confusion_matrix(y_test, rfc_smenn_pred),   #visualizing our confusion matrix in a way that it'll make more sense\n",
    "             index = ['Actual: False', 'Actual: True'],\n",
    "             columns = ['Pred: False', 'Pred: True'])"
   ]
  },
  {
   "cell_type": "markdown",
   "metadata": {},
   "source": [
    "We can see from our confusion matrix we can see our classification of the minority class has reduced a bit but we have a way better balance in the classification of our majority and minority classes. Let's see our classification report and the other scoring metrics"
   ]
  },
  {
   "cell_type": "code",
   "execution_count": 72,
   "metadata": {},
   "outputs": [
    {
     "name": "stdout",
     "output_type": "stream",
     "text": [
      "              precision    recall  f1-score   support\n",
      "\n",
      "           0       1.00      0.99      0.99      1353\n",
      "           1       0.91      0.97      0.94       144\n",
      "\n",
      "    accuracy                           0.99      1497\n",
      "   macro avg       0.95      0.98      0.97      1497\n",
      "weighted avg       0.99      0.99      0.99      1497\n",
      "\n"
     ]
    }
   ],
   "source": [
    "print(classification_report(y_test, rfc_smenn_pred))"
   ]
  },
  {
   "cell_type": "markdown",
   "metadata": {},
   "source": [
    "we can see that we still have a high recall of 97%"
   ]
  },
  {
   "cell_type": "code",
   "execution_count": 73,
   "metadata": {},
   "outputs": [
    {
     "name": "stdout",
     "output_type": "stream",
     "text": [
      "F2_score: 0.96\n",
      "MCC: 0.93\n"
     ]
    }
   ],
   "source": [
    "rfc_smenn_f2 = fbeta_score(y_test, rfc_smenn_pred, beta =2.0) #checking our f2 score\n",
    "rfc_smenn_MCC = matthews_corrcoef (y_test, rfc_smenn_pred)    #checking our MCC\n",
    "\n",
    "print('F2_score: %.2f' %(rfc_smenn_f2))\n",
    "print('MCC: %.2f' %(rfc_smenn_MCC))"
   ]
  },
  {
   "cell_type": "markdown",
   "metadata": {},
   "source": [
    "### Results for our Combination resampled Random Forest model\n",
    "\n",
    "* Recall = 0.97%\n",
    "* F2_score = 0.95%\n",
    "* MCC = 0.92%\n",
    "\n",
    "We can see an impprove in our F2 score and MCC score from that of the undersampled model and our recall is still pretty good. Just like in our SVM models, even though our oversampled RFC model gave us a better MCC score, we can see from our confusion matrix that this RFC combined model classifies our minority class better so we will have to go with this Combined RFC model as our best model for best classifying the minority class in our dataset.\n",
    "\n",
    "And this is also so far our best model yet!"
   ]
  },
  {
   "cell_type": "markdown",
   "metadata": {},
   "source": [
    "## The XGBoost Model"
   ]
  },
  {
   "cell_type": "markdown",
   "metadata": {},
   "source": [
    "For this model we are just going to work on the imbalanced data and then work on data that has been resampled by combining the SMOTE oversampler and the ENN undersampler, this is because from our previous models we can say that this gives the best data for predictions"
   ]
  },
  {
   "cell_type": "markdown",
   "metadata": {},
   "source": [
    "### Working with our imbalanced dataset"
   ]
  },
  {
   "cell_type": "code",
   "execution_count": 74,
   "metadata": {},
   "outputs": [
    {
     "name": "stdout",
     "output_type": "stream",
     "text": [
      "[23:14:05] WARNING: C:/Users/Administrator/workspace/xgboost-win64_release_1.4.0/src/learner.cc:1095: Starting in XGBoost 1.3.0, the default evaluation metric used with the objective 'binary:logistic' was changed from 'error' to 'logloss'. Explicitly set eval_metric if you'd like to restore the old behavior.\n"
     ]
    }
   ],
   "source": [
    "from xgboost import XGBClassifier  #importing our classifier\n",
    "\n",
    "xgb = XGBClassifier(random_state = 0)  #housing our classifier in a variable\n",
    "xgb.fit(X_train, y_train)    #feeding our data to the classifier\n",
    "xgb_pred = xgb.predict(X_test)   #predictiong our model"
   ]
  },
  {
   "cell_type": "code",
   "execution_count": 75,
   "metadata": {},
   "outputs": [
    {
     "data": {
      "text/html": [
       "<div>\n",
       "<style scoped>\n",
       "    .dataframe tbody tr th:only-of-type {\n",
       "        vertical-align: middle;\n",
       "    }\n",
       "\n",
       "    .dataframe tbody tr th {\n",
       "        vertical-align: top;\n",
       "    }\n",
       "\n",
       "    .dataframe thead th {\n",
       "        text-align: right;\n",
       "    }\n",
       "</style>\n",
       "<table border=\"1\" class=\"dataframe\">\n",
       "  <thead>\n",
       "    <tr style=\"text-align: right;\">\n",
       "      <th></th>\n",
       "      <th>Pred: False</th>\n",
       "      <th>Pred: True</th>\n",
       "    </tr>\n",
       "  </thead>\n",
       "  <tbody>\n",
       "    <tr>\n",
       "      <th>Actual: False</th>\n",
       "      <td>1349</td>\n",
       "      <td>4</td>\n",
       "    </tr>\n",
       "    <tr>\n",
       "      <th>Actual: True</th>\n",
       "      <td>10</td>\n",
       "      <td>134</td>\n",
       "    </tr>\n",
       "  </tbody>\n",
       "</table>\n",
       "</div>"
      ],
      "text/plain": [
       "               Pred: False  Pred: True\n",
       "Actual: False         1349           4\n",
       "Actual: True            10         134"
      ]
     },
     "execution_count": 75,
     "metadata": {},
     "output_type": "execute_result"
    }
   ],
   "source": [
    "pd.DataFrame(confusion_matrix(y_test, xgb_pred),   #visualizing our confusion matrix in a way that it'll make more sense\n",
    "             index = ['Actual: False', 'Actual: True'],\n",
    "             columns = ['Pred: False', 'Pred: True'])"
   ]
  },
  {
   "cell_type": "markdown",
   "metadata": {},
   "source": [
    "We can see from our confusion matrix that this classifier performed  better than our baseline classifier, imbalanced SVM model and also our imbalanced Random Forest Model, we can also see that our model classified the majority class better than the minority class.\n",
    "\n",
    "Let's quickly see the classification report"
   ]
  },
  {
   "cell_type": "code",
   "execution_count": 76,
   "metadata": {},
   "outputs": [
    {
     "name": "stdout",
     "output_type": "stream",
     "text": [
      "              precision    recall  f1-score   support\n",
      "\n",
      "           0       0.99      1.00      0.99      1353\n",
      "           1       0.97      0.93      0.95       144\n",
      "\n",
      "    accuracy                           0.99      1497\n",
      "   macro avg       0.98      0.96      0.97      1497\n",
      "weighted avg       0.99      0.99      0.99      1497\n",
      "\n"
     ]
    }
   ],
   "source": [
    "print(classification_report(y_test, xgb_pred))"
   ]
  },
  {
   "cell_type": "markdown",
   "metadata": {},
   "source": [
    "we can see we have a high recall of 93% even on the imbalanced data!"
   ]
  },
  {
   "cell_type": "code",
   "execution_count": 77,
   "metadata": {},
   "outputs": [
    {
     "name": "stdout",
     "output_type": "stream",
     "text": [
      "F2_score: 0.94\n",
      "MCC: 0.95\n"
     ]
    }
   ],
   "source": [
    "xgb_f2 = fbeta_score(y_test, xgb_pred, beta =2.0) #checking our f2 score\n",
    "xgb_MCC = matthews_corrcoef (y_test, xgb_pred)    #checking our MCC\n",
    "\n",
    "print('F2_score: %.2f' %(xgb_f2))\n",
    "print('MCC: %.2f' %(xgb_MCC))"
   ]
  },
  {
   "cell_type": "markdown",
   "metadata": {},
   "source": [
    "### Results for our Imbalanced XGBoost model\n",
    "\n",
    "* Recall = 0.93%\n",
    "* F2_score = 0.94%\n",
    "* MCC = 0.95%\n",
    "\n",
    "We can see from our results that all our scoring metrics are high, this has to be the best model on our imbalanced dataset, let's try using the classifier on a balanced dataset"
   ]
  },
  {
   "cell_type": "markdown",
   "metadata": {},
   "source": [
    "### Using our dataset resampled by Combining the SMOTE Oversampling and the ENN undersampling"
   ]
  },
  {
   "cell_type": "code",
   "execution_count": 78,
   "metadata": {},
   "outputs": [
    {
     "name": "stdout",
     "output_type": "stream",
     "text": [
      "[23:14:06] WARNING: C:/Users/Administrator/workspace/xgboost-win64_release_1.4.0/src/learner.cc:1095: Starting in XGBoost 1.3.0, the default evaluation metric used with the objective 'binary:logistic' was changed from 'error' to 'logloss'. Explicitly set eval_metric if you'd like to restore the old behavior.\n"
     ]
    }
   ],
   "source": [
    "#feeding our combined resampled data into our classifier\n",
    "xgb.fit(X_train_smenn, y_train_smenn)\n",
    "xgb_smenn_pred = xgb.predict(X_test) #predicting our test data"
   ]
  },
  {
   "cell_type": "code",
   "execution_count": 79,
   "metadata": {
    "scrolled": true
   },
   "outputs": [
    {
     "data": {
      "text/html": [
       "<div>\n",
       "<style scoped>\n",
       "    .dataframe tbody tr th:only-of-type {\n",
       "        vertical-align: middle;\n",
       "    }\n",
       "\n",
       "    .dataframe tbody tr th {\n",
       "        vertical-align: top;\n",
       "    }\n",
       "\n",
       "    .dataframe thead th {\n",
       "        text-align: right;\n",
       "    }\n",
       "</style>\n",
       "<table border=\"1\" class=\"dataframe\">\n",
       "  <thead>\n",
       "    <tr style=\"text-align: right;\">\n",
       "      <th></th>\n",
       "      <th>Pred: False</th>\n",
       "      <th>Pred: True</th>\n",
       "    </tr>\n",
       "  </thead>\n",
       "  <tbody>\n",
       "    <tr>\n",
       "      <th>Actual: False</th>\n",
       "      <td>1340</td>\n",
       "      <td>13</td>\n",
       "    </tr>\n",
       "    <tr>\n",
       "      <th>Actual: True</th>\n",
       "      <td>7</td>\n",
       "      <td>137</td>\n",
       "    </tr>\n",
       "  </tbody>\n",
       "</table>\n",
       "</div>"
      ],
      "text/plain": [
       "               Pred: False  Pred: True\n",
       "Actual: False         1340          13\n",
       "Actual: True             7         137"
      ]
     },
     "execution_count": 79,
     "metadata": {},
     "output_type": "execute_result"
    }
   ],
   "source": [
    "pd.DataFrame(confusion_matrix(y_test, xgb_smenn_pred),   #visualizing our confusion matrix in a way that it'll make more sense\n",
    "             index = ['Actual: False', 'Actual: True'],\n",
    "             columns = ['Pred: False', 'Pred: True'])"
   ]
  },
  {
   "cell_type": "markdown",
   "metadata": {},
   "source": [
    "from our confusion matrix we can see that our model has classified our minority class better while also classifying our majority class correctly"
   ]
  },
  {
   "cell_type": "code",
   "execution_count": 80,
   "metadata": {
    "scrolled": true
   },
   "outputs": [
    {
     "name": "stdout",
     "output_type": "stream",
     "text": [
      "              precision    recall  f1-score   support\n",
      "\n",
      "           0       0.99      0.99      0.99      1353\n",
      "           1       0.91      0.95      0.93       144\n",
      "\n",
      "    accuracy                           0.99      1497\n",
      "   macro avg       0.95      0.97      0.96      1497\n",
      "weighted avg       0.99      0.99      0.99      1497\n",
      "\n"
     ]
    }
   ],
   "source": [
    "print(classification_report(y_test, xgb_smenn_pred))"
   ]
  },
  {
   "cell_type": "markdown",
   "metadata": {},
   "source": [
    "we have a high recall of 96%, not as high as that of the combined RFC  though"
   ]
  },
  {
   "cell_type": "code",
   "execution_count": 81,
   "metadata": {},
   "outputs": [
    {
     "name": "stdout",
     "output_type": "stream",
     "text": [
      "F2_score: 0.94\n",
      "MCC: 0.92\n"
     ]
    }
   ],
   "source": [
    "xgb_smenn_f2 = fbeta_score(y_test, xgb_smenn_pred, beta =2.0) #checking our f2 score\n",
    "xgb_smenn_MCC = matthews_corrcoef (y_test, xgb_smenn_pred)    #checking our MCC\n",
    "\n",
    "print('F2_score: %.2f' %(xgb_smenn_f2))\n",
    "print('MCC: %.2f' %(xgb_smenn_MCC))"
   ]
  },
  {
   "cell_type": "markdown",
   "metadata": {},
   "source": [
    "### Results for our Combination resampled XGBoost model\n",
    "\n",
    "* Recall = 0.96%\n",
    "* F2_score = 0.95%\n",
    "* MCC = 0.93%\n",
    "\n",
    "From our results we can say that our metrics are pretty high, the RF classifier gives us a higher recall while this gives us a higher MCC score"
   ]
  },
  {
   "cell_type": "markdown",
   "metadata": {},
   "source": [
    "## Summary"
   ]
  },
  {
   "cell_type": "markdown",
   "metadata": {},
   "source": [
    "I was working with a dataset that had 14 features (columns), and 5000 observations(rows). The goal was to best classify the Personal loan column which had two classes, hence I was working with a Binary Classification Problem. Some of the steps I took include:\n",
    "\n",
    "* Exploratory Data Analysis(EDA): Here I found that there was no missing values in the dataset, there were some duplicate values which I dropped. I also viewed each columns correlation with one another and with the target variable, and dropped irrelevant columns and columns with very little correlation.\n",
    "\n",
    "* Feature Engineering: I changed the categorical variables from numeric to category datatype, I also normalized the numerical features of the train set after splitting the dataset to train and test sets\n",
    "\n",
    "* Model Selection: I selected different models (SVM, Random Forest, XGBoost) and compared their performance to one another, I also started with a baseline model which was a simple KNN classifier\n",
    "\n",
    "* Evaluation Metric: I chose an evaluation metric that would best evaluate the performance of the minority class, since that is of utmost importance\n",
    "\n",
    "* Class Imbalance: I trained each of the models with both an imbalanced dataset and one resampled with various techniques (Oversampling, Undersampling and Combination techniques)\n",
    "\n",
    "Finally the results for each model was compared against each other and the best performing one was highlighted."
   ]
  },
  {
   "cell_type": "markdown",
   "metadata": {},
   "source": [
    "## Conclusion"
   ]
  },
  {
   "cell_type": "markdown",
   "metadata": {},
   "source": [
    "We can conclude that the models that best classify the minority class of our target variable without costing us a lot of accuracy in the majority class in this given dataset is the **Random Forest Classifier when trained on the train sets that has been resampled by combining the SMOTE Oversampler and the ENN undersampler** and the **XGBoost Model when trained on the imbalanced dataset**"
   ]
  }
 ],
 "metadata": {
  "kernelspec": {
   "display_name": "Python 3.9.10 64-bit",
   "language": "python",
   "name": "python3"
  },
  "language_info": {
   "codemirror_mode": {
    "name": "ipython",
    "version": 3
   },
   "file_extension": ".py",
   "mimetype": "text/x-python",
   "name": "python",
   "nbconvert_exporter": "python",
   "pygments_lexer": "ipython3",
   "version": "3.9.10"
  },
  "vscode": {
   "interpreter": {
    "hash": "2fad9d6c9d177b23a4fc55bd417abe0bb081b446d0cb547bf1a38a270014c917"
   }
  }
 },
 "nbformat": 4,
 "nbformat_minor": 4
}
