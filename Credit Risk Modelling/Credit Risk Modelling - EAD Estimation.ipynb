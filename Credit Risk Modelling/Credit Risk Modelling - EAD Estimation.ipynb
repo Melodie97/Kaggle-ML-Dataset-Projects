{
 "cells": [
  {
   "cell_type": "markdown",
   "id": "b0be55b9",
   "metadata": {},
   "source": [
    "## EAD Model"
   ]
  },
  {
   "cell_type": "code",
   "execution_count": 1,
   "id": "a99189ba",
   "metadata": {},
   "outputs": [],
   "source": [
    "#import Libraries\n",
    "import warnings\n",
    "warnings.filterwarnings(\"ignore\")\n",
    "import pyodbc\n",
    "import numpy as np\n",
    "import pandas as pd\n",
    "import matplotlib.pyplot as plt\n",
    "import seaborn as sns\n",
    "%matplotlib inline\n",
    "sns.set()"
   ]
  },
  {
   "cell_type": "code",
   "execution_count": 2,
   "id": "ac363e86",
   "metadata": {},
   "outputs": [],
   "source": [
    "data = pd.read_csv('loan_data/lgd_preprocessed_data.csv', index_col=0)\n",
    "data1 = pd.read_csv('loan_data/lgd_preprocessed_data1.csv', index_col=0)"
   ]
  },
  {
   "cell_type": "code",
   "execution_count": 3,
   "id": "0d4612c4",
   "metadata": {},
   "outputs": [],
   "source": [
    "pd.options.display.max_columns=None"
   ]
  },
  {
   "cell_type": "code",
   "execution_count": 4,
   "id": "7a6558ee",
   "metadata": {},
   "outputs": [
    {
     "data": {
      "text/html": [
       "<div>\n",
       "<style scoped>\n",
       "    .dataframe tbody tr th:only-of-type {\n",
       "        vertical-align: middle;\n",
       "    }\n",
       "\n",
       "    .dataframe tbody tr th {\n",
       "        vertical-align: top;\n",
       "    }\n",
       "\n",
       "    .dataframe thead th {\n",
       "        text-align: right;\n",
       "    }\n",
       "</style>\n",
       "<table border=\"1\" class=\"dataframe\">\n",
       "  <thead>\n",
       "    <tr style=\"text-align: right;\">\n",
       "      <th></th>\n",
       "      <th>id</th>\n",
       "      <th>member_id</th>\n",
       "      <th>loan_amnt</th>\n",
       "      <th>funded_amnt</th>\n",
       "      <th>int_rate</th>\n",
       "      <th>installment</th>\n",
       "      <th>grade</th>\n",
       "      <th>sub_grade</th>\n",
       "      <th>home_ownership</th>\n",
       "      <th>annual_inc</th>\n",
       "      <th>verification_status</th>\n",
       "      <th>loan_status</th>\n",
       "      <th>purpose</th>\n",
       "      <th>zip_code</th>\n",
       "      <th>addr_state</th>\n",
       "      <th>dti</th>\n",
       "      <th>delinq_2yrs</th>\n",
       "      <th>inq_last_6mths</th>\n",
       "      <th>mths_since_last_delinq</th>\n",
       "      <th>mths_since_last_record</th>\n",
       "      <th>open_acc</th>\n",
       "      <th>pub_rec</th>\n",
       "      <th>total_acc</th>\n",
       "      <th>initial_list_status</th>\n",
       "      <th>total_rec_prncp</th>\n",
       "      <th>total_rec_int</th>\n",
       "      <th>recoveries</th>\n",
       "      <th>acc_now_delinq</th>\n",
       "      <th>total_rev_hi_lim</th>\n",
       "      <th>emp_length_int</th>\n",
       "      <th>term_int</th>\n",
       "      <th>earliest_cr_line_mnths</th>\n",
       "      <th>mnths_since_issue_date</th>\n",
       "      <th>grade_freq</th>\n",
       "      <th>sub_grade_freq</th>\n",
       "      <th>home_ownership_freq</th>\n",
       "      <th>purpose_freq</th>\n",
       "      <th>addr_state_freq</th>\n",
       "      <th>verification_status:Not Verified</th>\n",
       "      <th>verification_status:Source Verified</th>\n",
       "      <th>verification_status:Verified</th>\n",
       "      <th>initial_list_status:f</th>\n",
       "      <th>initial_list_status:w</th>\n",
       "      <th>recovery_rate</th>\n",
       "      <th>CCF</th>\n",
       "      <th>recovery_rate_0_1</th>\n",
       "    </tr>\n",
       "  </thead>\n",
       "  <tbody>\n",
       "    <tr>\n",
       "      <th>1</th>\n",
       "      <td>1077430</td>\n",
       "      <td>1314167</td>\n",
       "      <td>2500</td>\n",
       "      <td>2500</td>\n",
       "      <td>15.27</td>\n",
       "      <td>59.83</td>\n",
       "      <td>C</td>\n",
       "      <td>C4</td>\n",
       "      <td>RENT</td>\n",
       "      <td>30000.0</td>\n",
       "      <td>Source Verified</td>\n",
       "      <td>Charged Off</td>\n",
       "      <td>car</td>\n",
       "      <td>309xx</td>\n",
       "      <td>GA</td>\n",
       "      <td>1.00</td>\n",
       "      <td>0.0</td>\n",
       "      <td>5.0</td>\n",
       "      <td>0.0</td>\n",
       "      <td>0.0</td>\n",
       "      <td>3.0</td>\n",
       "      <td>0.0</td>\n",
       "      <td>4.0</td>\n",
       "      <td>f</td>\n",
       "      <td>456.46</td>\n",
       "      <td>435.17</td>\n",
       "      <td>117.08</td>\n",
       "      <td>0.0</td>\n",
       "      <td>2500.0</td>\n",
       "      <td>0</td>\n",
       "      <td>60</td>\n",
       "      <td>224.0</td>\n",
       "      <td>72.0</td>\n",
       "      <td>12069</td>\n",
       "      <td>2441</td>\n",
       "      <td>20258</td>\n",
       "      <td>438</td>\n",
       "      <td>1313</td>\n",
       "      <td>0</td>\n",
       "      <td>1</td>\n",
       "      <td>0</td>\n",
       "      <td>1</td>\n",
       "      <td>0</td>\n",
       "      <td>0.046832</td>\n",
       "      <td>0.817416</td>\n",
       "      <td>1</td>\n",
       "    </tr>\n",
       "    <tr>\n",
       "      <th>8</th>\n",
       "      <td>1071795</td>\n",
       "      <td>1306957</td>\n",
       "      <td>5600</td>\n",
       "      <td>5600</td>\n",
       "      <td>21.28</td>\n",
       "      <td>152.39</td>\n",
       "      <td>F</td>\n",
       "      <td>F2</td>\n",
       "      <td>OWN</td>\n",
       "      <td>40000.0</td>\n",
       "      <td>Source Verified</td>\n",
       "      <td>Charged Off</td>\n",
       "      <td>small_business</td>\n",
       "      <td>958xx</td>\n",
       "      <td>CA</td>\n",
       "      <td>5.55</td>\n",
       "      <td>0.0</td>\n",
       "      <td>2.0</td>\n",
       "      <td>0.0</td>\n",
       "      <td>0.0</td>\n",
       "      <td>11.0</td>\n",
       "      <td>0.0</td>\n",
       "      <td>13.0</td>\n",
       "      <td>f</td>\n",
       "      <td>162.02</td>\n",
       "      <td>294.94</td>\n",
       "      <td>189.06</td>\n",
       "      <td>0.0</td>\n",
       "      <td>5600.0</td>\n",
       "      <td>4</td>\n",
       "      <td>60</td>\n",
       "      <td>164.0</td>\n",
       "      <td>72.0</td>\n",
       "      <td>2778</td>\n",
       "      <td>600</td>\n",
       "      <td>3785</td>\n",
       "      <td>1394</td>\n",
       "      <td>7011</td>\n",
       "      <td>0</td>\n",
       "      <td>1</td>\n",
       "      <td>0</td>\n",
       "      <td>1</td>\n",
       "      <td>0</td>\n",
       "      <td>0.033761</td>\n",
       "      <td>0.971068</td>\n",
       "      <td>1</td>\n",
       "    </tr>\n",
       "    <tr>\n",
       "      <th>9</th>\n",
       "      <td>1071570</td>\n",
       "      <td>1306721</td>\n",
       "      <td>5375</td>\n",
       "      <td>5375</td>\n",
       "      <td>12.69</td>\n",
       "      <td>121.45</td>\n",
       "      <td>B</td>\n",
       "      <td>B5</td>\n",
       "      <td>RENT</td>\n",
       "      <td>15000.0</td>\n",
       "      <td>Verified</td>\n",
       "      <td>Charged Off</td>\n",
       "      <td>other</td>\n",
       "      <td>774xx</td>\n",
       "      <td>TX</td>\n",
       "      <td>18.08</td>\n",
       "      <td>0.0</td>\n",
       "      <td>0.0</td>\n",
       "      <td>0.0</td>\n",
       "      <td>0.0</td>\n",
       "      <td>2.0</td>\n",
       "      <td>0.0</td>\n",
       "      <td>3.0</td>\n",
       "      <td>f</td>\n",
       "      <td>673.48</td>\n",
       "      <td>533.42</td>\n",
       "      <td>269.29</td>\n",
       "      <td>0.0</td>\n",
       "      <td>5375.0</td>\n",
       "      <td>0</td>\n",
       "      <td>60</td>\n",
       "      <td>159.0</td>\n",
       "      <td>72.0</td>\n",
       "      <td>9242</td>\n",
       "      <td>2045</td>\n",
       "      <td>20258</td>\n",
       "      <td>2892</td>\n",
       "      <td>2883</td>\n",
       "      <td>0</td>\n",
       "      <td>0</td>\n",
       "      <td>1</td>\n",
       "      <td>1</td>\n",
       "      <td>0</td>\n",
       "      <td>0.050100</td>\n",
       "      <td>0.874701</td>\n",
       "      <td>1</td>\n",
       "    </tr>\n",
       "    <tr>\n",
       "      <th>12</th>\n",
       "      <td>1064687</td>\n",
       "      <td>1298717</td>\n",
       "      <td>9000</td>\n",
       "      <td>9000</td>\n",
       "      <td>13.49</td>\n",
       "      <td>305.38</td>\n",
       "      <td>C</td>\n",
       "      <td>C1</td>\n",
       "      <td>RENT</td>\n",
       "      <td>30000.0</td>\n",
       "      <td>Source Verified</td>\n",
       "      <td>Charged Off</td>\n",
       "      <td>debt_consolidation</td>\n",
       "      <td>245xx</td>\n",
       "      <td>VA</td>\n",
       "      <td>10.08</td>\n",
       "      <td>0.0</td>\n",
       "      <td>1.0</td>\n",
       "      <td>0.0</td>\n",
       "      <td>0.0</td>\n",
       "      <td>4.0</td>\n",
       "      <td>0.0</td>\n",
       "      <td>9.0</td>\n",
       "      <td>f</td>\n",
       "      <td>1256.14</td>\n",
       "      <td>570.26</td>\n",
       "      <td>444.30</td>\n",
       "      <td>0.0</td>\n",
       "      <td>9000.0</td>\n",
       "      <td>0</td>\n",
       "      <td>36</td>\n",
       "      <td>164.0</td>\n",
       "      <td>72.0</td>\n",
       "      <td>12069</td>\n",
       "      <td>2363</td>\n",
       "      <td>20258</td>\n",
       "      <td>26127</td>\n",
       "      <td>1348</td>\n",
       "      <td>0</td>\n",
       "      <td>1</td>\n",
       "      <td>0</td>\n",
       "      <td>1</td>\n",
       "      <td>0</td>\n",
       "      <td>0.049367</td>\n",
       "      <td>0.860429</td>\n",
       "      <td>1</td>\n",
       "    </tr>\n",
       "    <tr>\n",
       "      <th>14</th>\n",
       "      <td>1069057</td>\n",
       "      <td>1303503</td>\n",
       "      <td>10000</td>\n",
       "      <td>10000</td>\n",
       "      <td>10.65</td>\n",
       "      <td>325.74</td>\n",
       "      <td>B</td>\n",
       "      <td>B2</td>\n",
       "      <td>RENT</td>\n",
       "      <td>100000.0</td>\n",
       "      <td>Source Verified</td>\n",
       "      <td>Charged Off</td>\n",
       "      <td>other</td>\n",
       "      <td>951xx</td>\n",
       "      <td>CA</td>\n",
       "      <td>7.06</td>\n",
       "      <td>0.0</td>\n",
       "      <td>2.0</td>\n",
       "      <td>0.0</td>\n",
       "      <td>0.0</td>\n",
       "      <td>14.0</td>\n",
       "      <td>0.0</td>\n",
       "      <td>29.0</td>\n",
       "      <td>f</td>\n",
       "      <td>5433.47</td>\n",
       "      <td>1393.42</td>\n",
       "      <td>645.10</td>\n",
       "      <td>0.0</td>\n",
       "      <td>10000.0</td>\n",
       "      <td>3</td>\n",
       "      <td>36</td>\n",
       "      <td>319.0</td>\n",
       "      <td>72.0</td>\n",
       "      <td>9242</td>\n",
       "      <td>1554</td>\n",
       "      <td>20258</td>\n",
       "      <td>2892</td>\n",
       "      <td>7011</td>\n",
       "      <td>0</td>\n",
       "      <td>1</td>\n",
       "      <td>0</td>\n",
       "      <td>1</td>\n",
       "      <td>0</td>\n",
       "      <td>0.064510</td>\n",
       "      <td>0.456653</td>\n",
       "      <td>1</td>\n",
       "    </tr>\n",
       "  </tbody>\n",
       "</table>\n",
       "</div>"
      ],
      "text/plain": [
       "         id  member_id  loan_amnt  funded_amnt  int_rate  installment grade  \\\n",
       "1   1077430    1314167       2500         2500     15.27        59.83     C   \n",
       "8   1071795    1306957       5600         5600     21.28       152.39     F   \n",
       "9   1071570    1306721       5375         5375     12.69       121.45     B   \n",
       "12  1064687    1298717       9000         9000     13.49       305.38     C   \n",
       "14  1069057    1303503      10000        10000     10.65       325.74     B   \n",
       "\n",
       "   sub_grade home_ownership  annual_inc verification_status  loan_status  \\\n",
       "1         C4           RENT     30000.0     Source Verified  Charged Off   \n",
       "8         F2            OWN     40000.0     Source Verified  Charged Off   \n",
       "9         B5           RENT     15000.0            Verified  Charged Off   \n",
       "12        C1           RENT     30000.0     Source Verified  Charged Off   \n",
       "14        B2           RENT    100000.0     Source Verified  Charged Off   \n",
       "\n",
       "               purpose zip_code addr_state    dti  delinq_2yrs  \\\n",
       "1                  car    309xx         GA   1.00          0.0   \n",
       "8       small_business    958xx         CA   5.55          0.0   \n",
       "9                other    774xx         TX  18.08          0.0   \n",
       "12  debt_consolidation    245xx         VA  10.08          0.0   \n",
       "14               other    951xx         CA   7.06          0.0   \n",
       "\n",
       "    inq_last_6mths  mths_since_last_delinq  mths_since_last_record  open_acc  \\\n",
       "1              5.0                     0.0                     0.0       3.0   \n",
       "8              2.0                     0.0                     0.0      11.0   \n",
       "9              0.0                     0.0                     0.0       2.0   \n",
       "12             1.0                     0.0                     0.0       4.0   \n",
       "14             2.0                     0.0                     0.0      14.0   \n",
       "\n",
       "    pub_rec  total_acc initial_list_status  total_rec_prncp  total_rec_int  \\\n",
       "1       0.0        4.0                   f           456.46         435.17   \n",
       "8       0.0       13.0                   f           162.02         294.94   \n",
       "9       0.0        3.0                   f           673.48         533.42   \n",
       "12      0.0        9.0                   f          1256.14         570.26   \n",
       "14      0.0       29.0                   f          5433.47        1393.42   \n",
       "\n",
       "    recoveries  acc_now_delinq  total_rev_hi_lim  emp_length_int  term_int  \\\n",
       "1       117.08             0.0            2500.0               0        60   \n",
       "8       189.06             0.0            5600.0               4        60   \n",
       "9       269.29             0.0            5375.0               0        60   \n",
       "12      444.30             0.0            9000.0               0        36   \n",
       "14      645.10             0.0           10000.0               3        36   \n",
       "\n",
       "    earliest_cr_line_mnths  mnths_since_issue_date  grade_freq  \\\n",
       "1                    224.0                    72.0       12069   \n",
       "8                    164.0                    72.0        2778   \n",
       "9                    159.0                    72.0        9242   \n",
       "12                   164.0                    72.0       12069   \n",
       "14                   319.0                    72.0        9242   \n",
       "\n",
       "    sub_grade_freq  home_ownership_freq  purpose_freq  addr_state_freq  \\\n",
       "1             2441                20258           438             1313   \n",
       "8              600                 3785          1394             7011   \n",
       "9             2045                20258          2892             2883   \n",
       "12            2363                20258         26127             1348   \n",
       "14            1554                20258          2892             7011   \n",
       "\n",
       "    verification_status:Not Verified  verification_status:Source Verified  \\\n",
       "1                                  0                                    1   \n",
       "8                                  0                                    1   \n",
       "9                                  0                                    0   \n",
       "12                                 0                                    1   \n",
       "14                                 0                                    1   \n",
       "\n",
       "    verification_status:Verified  initial_list_status:f  \\\n",
       "1                              0                      1   \n",
       "8                              0                      1   \n",
       "9                              1                      1   \n",
       "12                             0                      1   \n",
       "14                             0                      1   \n",
       "\n",
       "    initial_list_status:w  recovery_rate       CCF  recovery_rate_0_1  \n",
       "1                       0       0.046832  0.817416                  1  \n",
       "8                       0       0.033761  0.971068                  1  \n",
       "9                       0       0.050100  0.874701                  1  \n",
       "12                      0       0.049367  0.860429                  1  \n",
       "14                      0       0.064510  0.456653                  1  "
      ]
     },
     "execution_count": 4,
     "metadata": {},
     "output_type": "execute_result"
    }
   ],
   "source": [
    "data.head()"
   ]
  },
  {
   "cell_type": "code",
   "execution_count": 5,
   "id": "da2b750b",
   "metadata": {},
   "outputs": [
    {
     "data": {
      "text/plain": [
       "((43236, 46), (43236, 162))"
      ]
     },
     "execution_count": 5,
     "metadata": {},
     "output_type": "execute_result"
    }
   ],
   "source": [
    "data.shape, data1.shape"
   ]
  },
  {
   "cell_type": "markdown",
   "id": "70e5d1b2",
   "metadata": {},
   "source": [
    "### Splitting the data"
   ]
  },
  {
   "cell_type": "code",
   "execution_count": 6,
   "id": "39bb8914",
   "metadata": {},
   "outputs": [],
   "source": [
    "from sklearn.model_selection import train_test_split"
   ]
  },
  {
   "cell_type": "code",
   "execution_count": 7,
   "id": "a9fede5e",
   "metadata": {},
   "outputs": [],
   "source": [
    "#data 1\n",
    "X_train, X_test, y_train, y_test = train_test_split(data.drop(['recovery_rate', 'recovery_rate_0_1', 'CCF'], axis=1),\n",
    "                                                   data['CCF'], random_state=42)"
   ]
  },
  {
   "cell_type": "code",
   "execution_count": 8,
   "id": "5f5fdda6",
   "metadata": {},
   "outputs": [],
   "source": [
    "#data 2\n",
    "X_train1, X_test1, y_train1, y_test1 = train_test_split(data1.drop(['recovery_rate', 'recovery_rate_0_1', 'CCF'], axis=1),\n",
    "                                                   data1['CCF'], random_state=42)"
   ]
  },
  {
   "cell_type": "code",
   "execution_count": 9,
   "id": "05906553",
   "metadata": {},
   "outputs": [
    {
     "data": {
      "text/plain": [
       "Index(['id', 'member_id', 'loan_amnt', 'funded_amnt', 'int_rate',\n",
       "       'installment', 'grade', 'sub_grade', 'home_ownership', 'annual_inc',\n",
       "       'verification_status', 'loan_status', 'purpose', 'zip_code',\n",
       "       'addr_state', 'dti', 'delinq_2yrs', 'inq_last_6mths',\n",
       "       'mths_since_last_delinq', 'mths_since_last_record', 'open_acc',\n",
       "       'pub_rec', 'total_acc', 'initial_list_status', 'total_rec_prncp',\n",
       "       'total_rec_int', 'recoveries', 'acc_now_delinq', 'total_rev_hi_lim',\n",
       "       'emp_length_int', 'term_int', 'earliest_cr_line_mnths',\n",
       "       'mnths_since_issue_date', 'grade_freq', 'sub_grade_freq',\n",
       "       'home_ownership_freq', 'purpose_freq', 'addr_state_freq',\n",
       "       'verification_status:Not Verified',\n",
       "       'verification_status:Source Verified', 'verification_status:Verified',\n",
       "       'initial_list_status:f', 'initial_list_status:w', 'recovery_rate',\n",
       "       'CCF', 'recovery_rate_0_1'],\n",
       "      dtype='object')"
      ]
     },
     "execution_count": 9,
     "metadata": {},
     "output_type": "execute_result"
    }
   ],
   "source": [
    "data.columns"
   ]
  },
  {
   "cell_type": "code",
   "execution_count": 10,
   "id": "ef1fe0c6",
   "metadata": {},
   "outputs": [],
   "source": [
    "data_features_all = [\n",
    "'funded_amnt', 'int_rate', 'installment', 'annual_inc',\n",
    "'dti', 'delinq_2yrs', 'inq_last_6mths', 'mths_since_last_delinq', 'mths_since_last_record', 'open_acc',\n",
    "'pub_rec', 'total_acc', 'acc_now_delinq', 'total_rev_hi_lim',\n",
    "'emp_length_int', 'term_int', 'earliest_cr_line_mnths',\n",
    "'mnths_since_issue_date', 'grade_freq', 'sub_grade_freq',\n",
    "'home_ownership_freq', 'purpose_freq', 'addr_state_freq', 'initial_list_status:w', 'initial_list_status:f',\n",
    "'verification_status:Not Verified', 'verification_status:Source Verified', 'verification_status:Verified'\n",
    "]\n",
    "\n",
    "data_ref_cat = [\n",
    "'verification_status:Verified',\n",
    "'initial_list_status:f'\n",
    "]"
   ]
  },
  {
   "cell_type": "code",
   "execution_count": 11,
   "id": "7ad9f32b",
   "metadata": {},
   "outputs": [
    {
     "data": {
      "text/plain": [
       "array(['id', 'member_id', 'loan_amnt', 'funded_amnt', 'int_rate',\n",
       "       'installment', 'grade', 'sub_grade', 'home_ownership',\n",
       "       'annual_inc', 'verification_status', 'loan_status', 'purpose',\n",
       "       'zip_code', 'addr_state', 'dti', 'delinq_2yrs', 'inq_last_6mths',\n",
       "       'mths_since_last_delinq', 'mths_since_last_record', 'open_acc',\n",
       "       'pub_rec', 'total_acc', 'initial_list_status', 'total_rec_prncp',\n",
       "       'total_rec_int', 'recoveries', 'acc_now_delinq',\n",
       "       'total_rev_hi_lim', 'emp_length_int', 'term_int',\n",
       "       'earliest_cr_line_mnths', 'mnths_since_issue_date', 'grade:A',\n",
       "       'grade:B', 'grade:C', 'grade:D', 'grade:E', 'grade:F', 'grade:G',\n",
       "       'sub_grade:A1', 'sub_grade:A2', 'sub_grade:A3', 'sub_grade:A4',\n",
       "       'sub_grade:A5', 'sub_grade:B1', 'sub_grade:B2', 'sub_grade:B3',\n",
       "       'sub_grade:B4', 'sub_grade:B5', 'sub_grade:C1', 'sub_grade:C2',\n",
       "       'sub_grade:C3', 'sub_grade:C4', 'sub_grade:C5', 'sub_grade:D1',\n",
       "       'sub_grade:D2', 'sub_grade:D3', 'sub_grade:D4', 'sub_grade:D5',\n",
       "       'sub_grade:E1', 'sub_grade:E2', 'sub_grade:E3', 'sub_grade:E4',\n",
       "       'sub_grade:E5', 'sub_grade:F1', 'sub_grade:F2', 'sub_grade:F3',\n",
       "       'sub_grade:F4', 'sub_grade:F5', 'sub_grade:G1', 'sub_grade:G2',\n",
       "       'sub_grade:G3', 'sub_grade:G4', 'sub_grade:G5',\n",
       "       'home_ownership:ANY', 'home_ownership:MORTGAGE',\n",
       "       'home_ownership:NONE', 'home_ownership:OTHER',\n",
       "       'home_ownership:OWN', 'home_ownership:RENT',\n",
       "       'verification_status:Not Verified',\n",
       "       'verification_status:Source Verified',\n",
       "       'verification_status:Verified', 'loan_status:Charged Off',\n",
       "       'loan_status:Current', 'loan_status:Default',\n",
       "       'loan_status:Does not meet the credit policy. Status:Charged Off',\n",
       "       'loan_status:Does not meet the credit policy. Status:Fully Paid',\n",
       "       'loan_status:Fully Paid', 'loan_status:In Grace Period',\n",
       "       'loan_status:Late (16-30 days)', 'loan_status:Late (31-120 days)',\n",
       "       'purpose:car', 'purpose:credit_card', 'purpose:debt_consolidation',\n",
       "       'purpose:educational', 'purpose:home_improvement', 'purpose:house',\n",
       "       'purpose:major_purchase', 'purpose:medical', 'purpose:moving',\n",
       "       'purpose:other', 'purpose:renewable_energy',\n",
       "       'purpose:small_business', 'purpose:vacation', 'purpose:wedding',\n",
       "       'addr_state:AK', 'addr_state:AL', 'addr_state:AR', 'addr_state:AZ',\n",
       "       'addr_state:CA', 'addr_state:CO', 'addr_state:CT', 'addr_state:DC',\n",
       "       'addr_state:DE', 'addr_state:FL', 'addr_state:GA', 'addr_state:HI',\n",
       "       'addr_state:IA', 'addr_state:ID', 'addr_state:IL', 'addr_state:IN',\n",
       "       'addr_state:KS', 'addr_state:KY', 'addr_state:LA', 'addr_state:MA',\n",
       "       'addr_state:MD', 'addr_state:ME', 'addr_state:MI', 'addr_state:MN',\n",
       "       'addr_state:MO', 'addr_state:MS', 'addr_state:MT', 'addr_state:NC',\n",
       "       'addr_state:NE', 'addr_state:NH', 'addr_state:NJ', 'addr_state:NM',\n",
       "       'addr_state:NV', 'addr_state:NY', 'addr_state:OH', 'addr_state:OK',\n",
       "       'addr_state:OR', 'addr_state:PA', 'addr_state:RI', 'addr_state:SC',\n",
       "       'addr_state:SD', 'addr_state:TN', 'addr_state:TX', 'addr_state:UT',\n",
       "       'addr_state:VA', 'addr_state:VT', 'addr_state:WA', 'addr_state:WI',\n",
       "       'addr_state:WV', 'addr_state:WY', 'initial_list_status:f',\n",
       "       'initial_list_status:w', 'recovery_rate', 'CCF',\n",
       "       'recovery_rate_0_1'], dtype=object)"
      ]
     },
     "execution_count": 11,
     "metadata": {},
     "output_type": "execute_result"
    }
   ],
   "source": [
    "data1.columns.values"
   ]
  },
  {
   "cell_type": "code",
   "execution_count": 12,
   "id": "7a28ad9b",
   "metadata": {},
   "outputs": [],
   "source": [
    "data1_features_all = [\n",
    "'funded_amnt', 'int_rate', 'installment', 'annual_inc',\n",
    "'dti', 'delinq_2yrs', 'inq_last_6mths', 'mths_since_last_delinq', 'mths_since_last_record', 'open_acc',\n",
    "'pub_rec', 'total_acc', 'acc_now_delinq', 'total_rev_hi_lim',\n",
    "'emp_length_int', 'term_int', 'earliest_cr_line_mnths',\n",
    "'mnths_since_issue_date', 'initial_list_status:f', 'initial_list_status:w',\n",
    "'grade:A', 'grade:B', 'grade:C', 'grade:D', 'grade:E', 'grade:F', 'grade:G',\n",
    "'home_ownership:MORTGAGE',\n",
    "'home_ownership:NONE', 'home_ownership:OTHER', 'home_ownership:OWN', 'home_ownership:RENT',\n",
    "'verification_status:Not Verified', 'verification_status:Source Verified',\n",
    "'verification_status:Verified',\n",
    "'purpose:car', 'purpose:credit_card', 'purpose:debt_consolidation',\n",
    "'purpose:educational', 'purpose:home_improvement', 'purpose:house',\n",
    "'purpose:major_purchase', 'purpose:medical', 'purpose:moving',\n",
    "'purpose:other', 'purpose:renewable_energy',\n",
    "'purpose:small_business', 'purpose:vacation', 'purpose:wedding', 'total_rev_hi_lim'\n",
    "]\n",
    "\n",
    "data1_ref_cat = [\n",
    "'grade:G', 'home_ownership:RENT', 'purpose:credit_card', 'initial_list_status:f'\n",
    "]"
   ]
  },
  {
   "cell_type": "code",
   "execution_count": 13,
   "id": "71f08040",
   "metadata": {},
   "outputs": [],
   "source": [
    "X_train = X_train[data_features_all]\n",
    "X_train1 = X_train1[data1_features_all]"
   ]
  },
  {
   "cell_type": "code",
   "execution_count": 14,
   "id": "f008b7b8",
   "metadata": {},
   "outputs": [],
   "source": [
    "X_test = X_test[data_features_all]\n",
    "X_test1 = X_test1[data1_features_all]"
   ]
  },
  {
   "cell_type": "code",
   "execution_count": 15,
   "id": "c5fef146",
   "metadata": {},
   "outputs": [],
   "source": [
    "X_train = X_train.drop(data_ref_cat, axis=1)\n",
    "X_train1 = X_train1.drop(data1_ref_cat, axis=1)\n",
    "\n",
    "X_test = X_test.drop(data_ref_cat, axis=1)\n",
    "X_test1 = X_test1.drop(data1_ref_cat, axis=1)"
   ]
  },
  {
   "cell_type": "markdown",
   "id": "fe83acf8",
   "metadata": {},
   "source": [
    "#### Modelling"
   ]
  },
  {
   "cell_type": "code",
   "execution_count": 18,
   "id": "6a5b13b7",
   "metadata": {},
   "outputs": [],
   "source": [
    "from sklearn.metrics import mean_squared_error, r2_score "
   ]
  },
  {
   "cell_type": "code",
   "execution_count": 22,
   "id": "bccc55f4",
   "metadata": {},
   "outputs": [],
   "source": [
    "from sklearn.ensemble import RandomForestRegressor"
   ]
  },
  {
   "cell_type": "code",
   "execution_count": 23,
   "id": "d41d5331",
   "metadata": {},
   "outputs": [
    {
     "data": {
      "text/plain": [
       "RandomForestRegressor()"
      ]
     },
     "execution_count": 23,
     "metadata": {},
     "output_type": "execute_result"
    }
   ],
   "source": [
    "rf = RandomForestRegressor()\n",
    "rf.fit(X_train, y_train)"
   ]
  },
  {
   "cell_type": "code",
   "execution_count": 24,
   "id": "304fd0c6",
   "metadata": {},
   "outputs": [],
   "source": [
    "pred = rf.predict(X_test)"
   ]
  },
  {
   "cell_type": "code",
   "execution_count": 25,
   "id": "709bbce2",
   "metadata": {},
   "outputs": [
    {
     "data": {
      "text/plain": [
       "0.30474746016661325"
      ]
     },
     "execution_count": 25,
     "metadata": {},
     "output_type": "execute_result"
    }
   ],
   "source": [
    "r2_score(y_test, pred)"
   ]
  },
  {
   "cell_type": "code",
   "execution_count": 26,
   "id": "6ac6f6e8",
   "metadata": {},
   "outputs": [],
   "source": [
    "y_test_temp = y_test\n",
    "y_test_temp.reset_index(drop=True, inplace=True)"
   ]
  },
  {
   "cell_type": "code",
   "execution_count": 27,
   "id": "decf4c33",
   "metadata": {},
   "outputs": [
    {
     "data": {
      "text/html": [
       "<div>\n",
       "<style scoped>\n",
       "    .dataframe tbody tr th:only-of-type {\n",
       "        vertical-align: middle;\n",
       "    }\n",
       "\n",
       "    .dataframe tbody tr th {\n",
       "        vertical-align: top;\n",
       "    }\n",
       "\n",
       "    .dataframe thead th {\n",
       "        text-align: right;\n",
       "    }\n",
       "</style>\n",
       "<table border=\"1\" class=\"dataframe\">\n",
       "  <thead>\n",
       "    <tr style=\"text-align: right;\">\n",
       "      <th></th>\n",
       "      <th>CCF</th>\n",
       "      <th>0</th>\n",
       "    </tr>\n",
       "  </thead>\n",
       "  <tbody>\n",
       "    <tr>\n",
       "      <th>CCF</th>\n",
       "      <td>1.000000</td>\n",
       "      <td>0.553141</td>\n",
       "    </tr>\n",
       "    <tr>\n",
       "      <th>0</th>\n",
       "      <td>0.553141</td>\n",
       "      <td>1.000000</td>\n",
       "    </tr>\n",
       "  </tbody>\n",
       "</table>\n",
       "</div>"
      ],
      "text/plain": [
       "          CCF         0\n",
       "CCF  1.000000  0.553141\n",
       "0    0.553141  1.000000"
      ]
     },
     "execution_count": 27,
     "metadata": {},
     "output_type": "execute_result"
    }
   ],
   "source": [
    "pd.concat([y_test_temp, pd.DataFrame(pred)], axis=1).corr()"
   ]
  },
  {
   "cell_type": "code",
   "execution_count": 28,
   "id": "4594bbed",
   "metadata": {},
   "outputs": [
    {
     "data": {
      "image/png": "[encoded data removed]",
      "text/plain": [
       "<Figure size 432x288 with 1 Axes>"
      ]
     },
     "metadata": {},
     "output_type": "display_data"
    }
   ],
   "source": [
    "#look at the distribusion btw actual and predicted\n",
    "sns.distplot(y_test - pred);"
   ]
  },
  {
   "cell_type": "code",
   "execution_count": 29,
   "id": "7c7c063e",
   "metadata": {},
   "outputs": [
    {
     "data": {
      "text/html": [
       "<div>\n",
       "<style scoped>\n",
       "    .dataframe tbody tr th:only-of-type {\n",
       "        vertical-align: middle;\n",
       "    }\n",
       "\n",
       "    .dataframe tbody tr th {\n",
       "        vertical-align: top;\n",
       "    }\n",
       "\n",
       "    .dataframe thead th {\n",
       "        text-align: right;\n",
       "    }\n",
       "</style>\n",
       "<table border=\"1\" class=\"dataframe\">\n",
       "  <thead>\n",
       "    <tr style=\"text-align: right;\">\n",
       "      <th></th>\n",
       "      <th>0</th>\n",
       "    </tr>\n",
       "  </thead>\n",
       "  <tbody>\n",
       "    <tr>\n",
       "      <th>count</th>\n",
       "      <td>10809.000000</td>\n",
       "    </tr>\n",
       "    <tr>\n",
       "      <th>mean</th>\n",
       "      <td>0.730871</td>\n",
       "    </tr>\n",
       "    <tr>\n",
       "      <th>std</th>\n",
       "      <td>0.117660</td>\n",
       "    </tr>\n",
       "    <tr>\n",
       "      <th>min</th>\n",
       "      <td>0.402605</td>\n",
       "    </tr>\n",
       "    <tr>\n",
       "      <th>25%</th>\n",
       "      <td>0.632552</td>\n",
       "    </tr>\n",
       "    <tr>\n",
       "      <th>50%</th>\n",
       "      <td>0.731411</td>\n",
       "    </tr>\n",
       "    <tr>\n",
       "      <th>75%</th>\n",
       "      <td>0.830585</td>\n",
       "    </tr>\n",
       "    <tr>\n",
       "      <th>max</th>\n",
       "      <td>0.969516</td>\n",
       "    </tr>\n",
       "  </tbody>\n",
       "</table>\n",
       "</div>"
      ],
      "text/plain": [
       "                  0\n",
       "count  10809.000000\n",
       "mean       0.730871\n",
       "std        0.117660\n",
       "min        0.402605\n",
       "25%        0.632552\n",
       "50%        0.731411\n",
       "75%        0.830585\n",
       "max        0.969516"
      ]
     },
     "execution_count": 29,
     "metadata": {},
     "output_type": "execute_result"
    }
   ],
   "source": [
    "pd.DataFrame(pred).describe()"
   ]
  },
  {
   "cell_type": "code",
   "execution_count": null,
   "id": "cc6274e5",
   "metadata": {},
   "outputs": [],
   "source": []
  },
  {
   "cell_type": "markdown",
   "id": "daba5593",
   "metadata": {},
   "source": [
    "#### Model 2"
   ]
  },
  {
   "cell_type": "code",
   "execution_count": 30,
   "id": "c92569bb",
   "metadata": {},
   "outputs": [
    {
     "data": {
      "text/plain": [
       "RandomForestRegressor()"
      ]
     },
     "execution_count": 30,
     "metadata": {},
     "output_type": "execute_result"
    }
   ],
   "source": [
    "rf1 = RandomForestRegressor()\n",
    "rf1.fit(X_train1, y_train1)"
   ]
  },
  {
   "cell_type": "code",
   "execution_count": 31,
   "id": "cda01846",
   "metadata": {},
   "outputs": [],
   "source": [
    "pred1 = rf1.predict(X_test1)"
   ]
  },
  {
   "cell_type": "code",
   "execution_count": 37,
   "id": "4bb92045",
   "metadata": {},
   "outputs": [
    {
     "data": {
      "text/plain": [
       "0.3013543915966619"
      ]
     },
     "execution_count": 37,
     "metadata": {},
     "output_type": "execute_result"
    }
   ],
   "source": [
    "r2_score(y_test1, pred1)"
   ]
  },
  {
   "cell_type": "code",
   "execution_count": 38,
   "id": "28b797df",
   "metadata": {},
   "outputs": [],
   "source": [
    "y_test_temp = y_test1\n",
    "y_test_temp.reset_index(drop=True, inplace=True)"
   ]
  },
  {
   "cell_type": "code",
   "execution_count": 39,
   "id": "23af7469",
   "metadata": {},
   "outputs": [
    {
     "data": {
      "text/html": [
       "<div>\n",
       "<style scoped>\n",
       "    .dataframe tbody tr th:only-of-type {\n",
       "        vertical-align: middle;\n",
       "    }\n",
       "\n",
       "    .dataframe tbody tr th {\n",
       "        vertical-align: top;\n",
       "    }\n",
       "\n",
       "    .dataframe thead th {\n",
       "        text-align: right;\n",
       "    }\n",
       "</style>\n",
       "<table border=\"1\" class=\"dataframe\">\n",
       "  <thead>\n",
       "    <tr style=\"text-align: right;\">\n",
       "      <th></th>\n",
       "      <th>CCF</th>\n",
       "      <th>0</th>\n",
       "    </tr>\n",
       "  </thead>\n",
       "  <tbody>\n",
       "    <tr>\n",
       "      <th>CCF</th>\n",
       "      <td>1.000000</td>\n",
       "      <td>0.550315</td>\n",
       "    </tr>\n",
       "    <tr>\n",
       "      <th>0</th>\n",
       "      <td>0.550315</td>\n",
       "      <td>1.000000</td>\n",
       "    </tr>\n",
       "  </tbody>\n",
       "</table>\n",
       "</div>"
      ],
      "text/plain": [
       "          CCF         0\n",
       "CCF  1.000000  0.550315\n",
       "0    0.550315  1.000000"
      ]
     },
     "execution_count": 39,
     "metadata": {},
     "output_type": "execute_result"
    }
   ],
   "source": [
    "pd.concat([y_test_temp, pd.DataFrame(pred1)], axis=1).corr()"
   ]
  },
  {
   "cell_type": "code",
   "execution_count": 40,
   "id": "fd690a62",
   "metadata": {},
   "outputs": [
    {
     "data": {
      "image/png": "[encoded data removed]",
      "text/plain": [
       "<Figure size 432x288 with 1 Axes>"
      ]
     },
     "metadata": {},
     "output_type": "display_data"
    }
   ],
   "source": [
    "#look at the distribusion btw actual and predicted\n",
    "sns.distplot(y_test1 - pred1);"
   ]
  },
  {
   "cell_type": "code",
   "execution_count": 41,
   "id": "68c68bd1",
   "metadata": {},
   "outputs": [
    {
     "data": {
      "text/html": [
       "<div>\n",
       "<style scoped>\n",
       "    .dataframe tbody tr th:only-of-type {\n",
       "        vertical-align: middle;\n",
       "    }\n",
       "\n",
       "    .dataframe tbody tr th {\n",
       "        vertical-align: top;\n",
       "    }\n",
       "\n",
       "    .dataframe thead th {\n",
       "        text-align: right;\n",
       "    }\n",
       "</style>\n",
       "<table border=\"1\" class=\"dataframe\">\n",
       "  <thead>\n",
       "    <tr style=\"text-align: right;\">\n",
       "      <th></th>\n",
       "      <th>0</th>\n",
       "    </tr>\n",
       "  </thead>\n",
       "  <tbody>\n",
       "    <tr>\n",
       "      <th>count</th>\n",
       "      <td>10809.000000</td>\n",
       "    </tr>\n",
       "    <tr>\n",
       "      <th>mean</th>\n",
       "      <td>0.731353</td>\n",
       "    </tr>\n",
       "    <tr>\n",
       "      <th>std</th>\n",
       "      <td>0.118103</td>\n",
       "    </tr>\n",
       "    <tr>\n",
       "      <th>min</th>\n",
       "      <td>0.406516</td>\n",
       "    </tr>\n",
       "    <tr>\n",
       "      <th>25%</th>\n",
       "      <td>0.633112</td>\n",
       "    </tr>\n",
       "    <tr>\n",
       "      <th>50%</th>\n",
       "      <td>0.734573</td>\n",
       "    </tr>\n",
       "    <tr>\n",
       "      <th>75%</th>\n",
       "      <td>0.830888</td>\n",
       "    </tr>\n",
       "    <tr>\n",
       "      <th>max</th>\n",
       "      <td>0.965421</td>\n",
       "    </tr>\n",
       "  </tbody>\n",
       "</table>\n",
       "</div>"
      ],
      "text/plain": [
       "                  0\n",
       "count  10809.000000\n",
       "mean       0.731353\n",
       "std        0.118103\n",
       "min        0.406516\n",
       "25%        0.633112\n",
       "50%        0.734573\n",
       "75%        0.830888\n",
       "max        0.965421"
      ]
     },
     "execution_count": 41,
     "metadata": {},
     "output_type": "execute_result"
    }
   ],
   "source": [
    "pd.DataFrame(pred1).describe()"
   ]
  },
  {
   "cell_type": "markdown",
   "id": "8f43f4a6",
   "metadata": {},
   "source": [
    "#### we'll use the second model as there's no much difference btw the two"
   ]
  },
  {
   "cell_type": "markdown",
   "id": "87295086",
   "metadata": {},
   "source": [
    "#### Save the Model"
   ]
  },
  {
   "cell_type": "code",
   "execution_count": 42,
   "id": "4d7bb91b",
   "metadata": {},
   "outputs": [],
   "source": [
    "import pickle\n",
    "\n",
    "pickle.dump(rf1, open('model/ead_model.pkl', 'wb'))"
   ]
  },
  {
   "cell_type": "code",
   "execution_count": null,
   "id": "934e1c5e",
   "metadata": {},
   "outputs": [],
   "source": []
  }
 ],
 "metadata": {
  "kernelspec": {
   "display_name": "Python 3 (ipykernel)",
   "language": "python",
   "name": "python3"
  },
  "language_info": {
   "codemirror_mode": {
    "name": "ipython",
    "version": 3
   },
   "file_extension": ".py",
   "mimetype": "text/x-python",
   "name": "python",
   "nbconvert_exporter": "python",
   "pygments_lexer": "ipython3",
   "version": "3.9.7"
  }
 },
 "nbformat": 4,
 "nbformat_minor": 5
}
